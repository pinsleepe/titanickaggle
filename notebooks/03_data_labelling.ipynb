{
 "cells": [
  {
   "cell_type": "markdown",
   "metadata": {},
   "source": [
    "* OPV (oral polio vaccine):\n",
    "    * Dose 1: birth\n",
    "    * Dose 2: 6 weeks\n",
    "    * Dose 3: 10 weeks,\n",
    "    * Dose 4: 14 weeks*\n",
    "* DTP (diphtheria, tetanus, pertussis):\n",
    "    * Dose 1: 6 weeks\n",
    "    * Dose 2: 10 weeks\n",
    "    * Dose 3: 14 weeks*"
   ]
  },
  {
   "cell_type": "markdown",
   "metadata": {},
   "source": [
    "I will attempt to label the data for supervised learning. I will define logic for two labels:\n",
    "* `high_risk`: child is partly vaccinated by 6 months\n",
    "* `low_risk`: child is fully or partly vaccinated by 4 months\n",
    "\n",
    "I will only include information up to 4 months and will exclude `exit_age` feature."
   ]
  },
  {
   "cell_type": "code",
   "execution_count": 1,
   "metadata": {},
   "outputs": [
    {
     "name": "stdout",
     "output_type": "stream",
     "text": [
      "2020-06-08 13:08:10,590 - root - INFO - ** Kedro project Immunization Drop-outs\n",
      "2020-06-08 13:08:10,591 - root - INFO - Defined global variable `context` and `catalog`\n"
     ]
    }
   ],
   "source": [
    "%reload_kedro"
   ]
  },
  {
   "cell_type": "code",
   "execution_count": 2,
   "metadata": {},
   "outputs": [
    {
     "name": "stdout",
     "output_type": "stream",
     "text": [
      "2020-06-08 13:08:15,448 - kedro.io.data_catalog - INFO - Loading data from `feature_table` (CSVDataSet)...\n"
     ]
    }
   ],
   "source": [
    "dff = catalog.load(\"feature_table\")"
   ]
  },
  {
   "cell_type": "code",
   "execution_count": 3,
   "metadata": {},
   "outputs": [
    {
     "data": {
      "text/html": [
       "<div>\n",
       "<style scoped>\n",
       "    .dataframe tbody tr th:only-of-type {\n",
       "        vertical-align: middle;\n",
       "    }\n",
       "\n",
       "    .dataframe tbody tr th {\n",
       "        vertical-align: top;\n",
       "    }\n",
       "\n",
       "    .dataframe thead th {\n",
       "        text-align: right;\n",
       "    }\n",
       "</style>\n",
       "<table border=\"1\" class=\"dataframe\">\n",
       "  <thead>\n",
       "    <tr style=\"text-align: right;\">\n",
       "      <th></th>\n",
       "      <th>pat_id</th>\n",
       "      <th>facility</th>\n",
       "      <th>region</th>\n",
       "      <th>gender</th>\n",
       "      <th>first_vaccine</th>\n",
       "      <th>enrollment_age</th>\n",
       "      <th>exit_age</th>\n",
       "      <th>opv_by_4mths</th>\n",
       "      <th>opv_by_6mths</th>\n",
       "      <th>dtp_by_4mths</th>\n",
       "      <th>dtp_by_6mths</th>\n",
       "    </tr>\n",
       "  </thead>\n",
       "  <tbody>\n",
       "    <tr>\n",
       "      <th>0</th>\n",
       "      <td>1</td>\n",
       "      <td>51.0</td>\n",
       "      <td>Ghanzi</td>\n",
       "      <td>f</td>\n",
       "      <td>OPV</td>\n",
       "      <td>1</td>\n",
       "      <td>23</td>\n",
       "      <td>2</td>\n",
       "      <td>4</td>\n",
       "      <td>1</td>\n",
       "      <td>3</td>\n",
       "    </tr>\n",
       "    <tr>\n",
       "      <th>1</th>\n",
       "      <td>2</td>\n",
       "      <td>89.0</td>\n",
       "      <td>Chobe</td>\n",
       "      <td>f</td>\n",
       "      <td>OPV</td>\n",
       "      <td>0</td>\n",
       "      <td>0</td>\n",
       "      <td>1</td>\n",
       "      <td>1</td>\n",
       "      <td>0</td>\n",
       "      <td>0</td>\n",
       "    </tr>\n",
       "    <tr>\n",
       "      <th>2</th>\n",
       "      <td>3</td>\n",
       "      <td>161.0</td>\n",
       "      <td>Central</td>\n",
       "      <td>m</td>\n",
       "      <td>OPV</td>\n",
       "      <td>0</td>\n",
       "      <td>6</td>\n",
       "      <td>2</td>\n",
       "      <td>2</td>\n",
       "      <td>1</td>\n",
       "      <td>1</td>\n",
       "    </tr>\n",
       "    <tr>\n",
       "      <th>3</th>\n",
       "      <td>4</td>\n",
       "      <td>168.0</td>\n",
       "      <td>Central</td>\n",
       "      <td>f</td>\n",
       "      <td>OPV</td>\n",
       "      <td>6</td>\n",
       "      <td>34</td>\n",
       "      <td>1</td>\n",
       "      <td>2</td>\n",
       "      <td>1</td>\n",
       "      <td>1</td>\n",
       "    </tr>\n",
       "    <tr>\n",
       "      <th>4</th>\n",
       "      <td>5</td>\n",
       "      <td>183.0</td>\n",
       "      <td>Central</td>\n",
       "      <td>m</td>\n",
       "      <td>OPV</td>\n",
       "      <td>2</td>\n",
       "      <td>20</td>\n",
       "      <td>3</td>\n",
       "      <td>4</td>\n",
       "      <td>2</td>\n",
       "      <td>2</td>\n",
       "    </tr>\n",
       "  </tbody>\n",
       "</table>\n",
       "</div>"
      ],
      "text/plain": [
       "   pat_id  facility   region gender first_vaccine  enrollment_age  exit_age  \\\n",
       "0       1      51.0   Ghanzi      f           OPV               1        23   \n",
       "1       2      89.0    Chobe      f           OPV               0         0   \n",
       "2       3     161.0  Central      m           OPV               0         6   \n",
       "3       4     168.0  Central      f           OPV               6        34   \n",
       "4       5     183.0  Central      m           OPV               2        20   \n",
       "\n",
       "   opv_by_4mths  opv_by_6mths  dtp_by_4mths  dtp_by_6mths  \n",
       "0             2             4             1             3  \n",
       "1             1             1             0             0  \n",
       "2             2             2             1             1  \n",
       "3             1             2             1             1  \n",
       "4             3             4             2             2  "
      ]
     },
     "execution_count": 3,
     "metadata": {},
     "output_type": "execute_result"
    }
   ],
   "source": [
    "dff.head()"
   ]
  },
  {
   "cell_type": "code",
   "execution_count": 12,
   "metadata": {
    "tags": [
     "node"
    ]
   },
   "outputs": [],
   "source": [
    "def assign_label(x0, x1, x2, x3):\n",
    "    \"\"\"\n",
    "    Assign `high` and `low` label to each patient based on a simple logic.\n",
    "    \"\"\"\n",
    "    if (x0 < 4) & (x1 < 3) & (x2 < 4) & (x3 < 3):\n",
    "        label = 'high'\n",
    "    elif (x0 == 4) & (x3 < 3):\n",
    "        label = 'high'\n",
    "    elif (x3 == 3) & (x2 < 4):\n",
    "        label = 'high'\n",
    "    else:\n",
    "        label = 'low'\n",
    "    return label"
   ]
  },
  {
   "cell_type": "code",
   "execution_count": 13,
   "metadata": {},
   "outputs": [],
   "source": [
    "dff['label'] = dff.apply(lambda x: assign_label(x.opv_by_4mths, x.dtp_by_4mths, x.opv_by_6mths, x.dtp_by_6mths), axis=1)"
   ]
  },
  {
   "cell_type": "code",
   "execution_count": 14,
   "metadata": {},
   "outputs": [
    {
     "data": {
      "text/html": [
       "<div>\n",
       "<style scoped>\n",
       "    .dataframe tbody tr th:only-of-type {\n",
       "        vertical-align: middle;\n",
       "    }\n",
       "\n",
       "    .dataframe tbody tr th {\n",
       "        vertical-align: top;\n",
       "    }\n",
       "\n",
       "    .dataframe thead th {\n",
       "        text-align: right;\n",
       "    }\n",
       "</style>\n",
       "<table border=\"1\" class=\"dataframe\">\n",
       "  <thead>\n",
       "    <tr style=\"text-align: right;\">\n",
       "      <th></th>\n",
       "      <th>pat_id</th>\n",
       "      <th>facility</th>\n",
       "      <th>region</th>\n",
       "      <th>gender</th>\n",
       "      <th>first_vaccine</th>\n",
       "      <th>enrollment_age</th>\n",
       "      <th>exit_age</th>\n",
       "      <th>opv_by_4mths</th>\n",
       "      <th>opv_by_6mths</th>\n",
       "      <th>dtp_by_4mths</th>\n",
       "      <th>dtp_by_6mths</th>\n",
       "      <th>label</th>\n",
       "    </tr>\n",
       "  </thead>\n",
       "  <tbody>\n",
       "    <tr>\n",
       "      <th>0</th>\n",
       "      <td>1</td>\n",
       "      <td>51.0</td>\n",
       "      <td>Ghanzi</td>\n",
       "      <td>f</td>\n",
       "      <td>OPV</td>\n",
       "      <td>1</td>\n",
       "      <td>23</td>\n",
       "      <td>2</td>\n",
       "      <td>4</td>\n",
       "      <td>1</td>\n",
       "      <td>3</td>\n",
       "      <td>low</td>\n",
       "    </tr>\n",
       "    <tr>\n",
       "      <th>1</th>\n",
       "      <td>2</td>\n",
       "      <td>89.0</td>\n",
       "      <td>Chobe</td>\n",
       "      <td>f</td>\n",
       "      <td>OPV</td>\n",
       "      <td>0</td>\n",
       "      <td>0</td>\n",
       "      <td>1</td>\n",
       "      <td>1</td>\n",
       "      <td>0</td>\n",
       "      <td>0</td>\n",
       "      <td>high</td>\n",
       "    </tr>\n",
       "    <tr>\n",
       "      <th>2</th>\n",
       "      <td>3</td>\n",
       "      <td>161.0</td>\n",
       "      <td>Central</td>\n",
       "      <td>m</td>\n",
       "      <td>OPV</td>\n",
       "      <td>0</td>\n",
       "      <td>6</td>\n",
       "      <td>2</td>\n",
       "      <td>2</td>\n",
       "      <td>1</td>\n",
       "      <td>1</td>\n",
       "      <td>high</td>\n",
       "    </tr>\n",
       "    <tr>\n",
       "      <th>3</th>\n",
       "      <td>4</td>\n",
       "      <td>168.0</td>\n",
       "      <td>Central</td>\n",
       "      <td>f</td>\n",
       "      <td>OPV</td>\n",
       "      <td>6</td>\n",
       "      <td>34</td>\n",
       "      <td>1</td>\n",
       "      <td>2</td>\n",
       "      <td>1</td>\n",
       "      <td>1</td>\n",
       "      <td>high</td>\n",
       "    </tr>\n",
       "    <tr>\n",
       "      <th>4</th>\n",
       "      <td>5</td>\n",
       "      <td>183.0</td>\n",
       "      <td>Central</td>\n",
       "      <td>m</td>\n",
       "      <td>OPV</td>\n",
       "      <td>2</td>\n",
       "      <td>20</td>\n",
       "      <td>3</td>\n",
       "      <td>4</td>\n",
       "      <td>2</td>\n",
       "      <td>2</td>\n",
       "      <td>low</td>\n",
       "    </tr>\n",
       "  </tbody>\n",
       "</table>\n",
       "</div>"
      ],
      "text/plain": [
       "   pat_id  facility   region gender first_vaccine  enrollment_age  exit_age  \\\n",
       "0       1      51.0   Ghanzi      f           OPV               1        23   \n",
       "1       2      89.0    Chobe      f           OPV               0         0   \n",
       "2       3     161.0  Central      m           OPV               0         6   \n",
       "3       4     168.0  Central      f           OPV               6        34   \n",
       "4       5     183.0  Central      m           OPV               2        20   \n",
       "\n",
       "   opv_by_4mths  opv_by_6mths  dtp_by_4mths  dtp_by_6mths label  \n",
       "0             2             4             1             3   low  \n",
       "1             1             1             0             0  high  \n",
       "2             2             2             1             1  high  \n",
       "3             1             2             1             1  high  \n",
       "4             3             4             2             2   low  "
      ]
     },
     "execution_count": 14,
     "metadata": {},
     "output_type": "execute_result"
    }
   ],
   "source": [
    "dff.head()"
   ]
  },
  {
   "cell_type": "code",
   "execution_count": 15,
   "metadata": {},
   "outputs": [
    {
     "data": {
      "text/plain": [
       "<matplotlib.axes._subplots.AxesSubplot at 0x7fa12b1fa1f0>"
      ]
     },
     "execution_count": 15,
     "metadata": {},
     "output_type": "execute_result"
    },
    {
     "data": {
      "image/png": "[encoded data removed]",
      "text/plain": [
       "<Figure size 432x288 with 1 Axes>"
      ]
     },
     "metadata": {
      "needs_background": "light"
     },
     "output_type": "display_data"
    }
   ],
   "source": [
    "dff['label'].value_counts().plot(kind='bar')"
   ]
  },
  {
   "cell_type": "code",
   "execution_count": 16,
   "metadata": {
    "tags": [
     "node"
    ]
   },
   "outputs": [],
   "source": [
    "def create_label_table(feature_table):\n",
    "    \"\"\"\n",
    "    Create dataframe with label column (based on feature table).\n",
    "    \"\"\"\n",
    "    feature_table['label'] = feature_table.apply(lambda x: assign_label(x.opv_by_4mths,\n",
    "                                                                        x.dtp_by_4mths, \n",
    "                                                                        x.opv_by_6mths, \n",
    "                                                                        x.dtp_by_6mths), axis=1)\n",
    "    return feature_table"
   ]
  },
  {
   "cell_type": "code",
   "execution_count": 17,
   "metadata": {},
   "outputs": [
    {
     "data": {
      "text/html": [
       "<div>\n",
       "<style scoped>\n",
       "    .dataframe tbody tr th:only-of-type {\n",
       "        vertical-align: middle;\n",
       "    }\n",
       "\n",
       "    .dataframe tbody tr th {\n",
       "        vertical-align: top;\n",
       "    }\n",
       "\n",
       "    .dataframe thead th {\n",
       "        text-align: right;\n",
       "    }\n",
       "</style>\n",
       "<table border=\"1\" class=\"dataframe\">\n",
       "  <thead>\n",
       "    <tr style=\"text-align: right;\">\n",
       "      <th></th>\n",
       "      <th>pat_id</th>\n",
       "      <th>facility</th>\n",
       "      <th>region</th>\n",
       "      <th>gender</th>\n",
       "      <th>first_vaccine</th>\n",
       "      <th>enrollment_age</th>\n",
       "      <th>exit_age</th>\n",
       "      <th>opv_by_4mths</th>\n",
       "      <th>opv_by_6mths</th>\n",
       "      <th>dtp_by_4mths</th>\n",
       "      <th>dtp_by_6mths</th>\n",
       "      <th>label</th>\n",
       "    </tr>\n",
       "  </thead>\n",
       "  <tbody>\n",
       "    <tr>\n",
       "      <th>0</th>\n",
       "      <td>1</td>\n",
       "      <td>51.0</td>\n",
       "      <td>Ghanzi</td>\n",
       "      <td>f</td>\n",
       "      <td>OPV</td>\n",
       "      <td>1</td>\n",
       "      <td>23</td>\n",
       "      <td>2</td>\n",
       "      <td>4</td>\n",
       "      <td>1</td>\n",
       "      <td>3</td>\n",
       "      <td>low</td>\n",
       "    </tr>\n",
       "    <tr>\n",
       "      <th>1</th>\n",
       "      <td>2</td>\n",
       "      <td>89.0</td>\n",
       "      <td>Chobe</td>\n",
       "      <td>f</td>\n",
       "      <td>OPV</td>\n",
       "      <td>0</td>\n",
       "      <td>0</td>\n",
       "      <td>1</td>\n",
       "      <td>1</td>\n",
       "      <td>0</td>\n",
       "      <td>0</td>\n",
       "      <td>high</td>\n",
       "    </tr>\n",
       "    <tr>\n",
       "      <th>2</th>\n",
       "      <td>3</td>\n",
       "      <td>161.0</td>\n",
       "      <td>Central</td>\n",
       "      <td>m</td>\n",
       "      <td>OPV</td>\n",
       "      <td>0</td>\n",
       "      <td>6</td>\n",
       "      <td>2</td>\n",
       "      <td>2</td>\n",
       "      <td>1</td>\n",
       "      <td>1</td>\n",
       "      <td>high</td>\n",
       "    </tr>\n",
       "    <tr>\n",
       "      <th>3</th>\n",
       "      <td>4</td>\n",
       "      <td>168.0</td>\n",
       "      <td>Central</td>\n",
       "      <td>f</td>\n",
       "      <td>OPV</td>\n",
       "      <td>6</td>\n",
       "      <td>34</td>\n",
       "      <td>1</td>\n",
       "      <td>2</td>\n",
       "      <td>1</td>\n",
       "      <td>1</td>\n",
       "      <td>high</td>\n",
       "    </tr>\n",
       "    <tr>\n",
       "      <th>4</th>\n",
       "      <td>5</td>\n",
       "      <td>183.0</td>\n",
       "      <td>Central</td>\n",
       "      <td>m</td>\n",
       "      <td>OPV</td>\n",
       "      <td>2</td>\n",
       "      <td>20</td>\n",
       "      <td>3</td>\n",
       "      <td>4</td>\n",
       "      <td>2</td>\n",
       "      <td>2</td>\n",
       "      <td>low</td>\n",
       "    </tr>\n",
       "  </tbody>\n",
       "</table>\n",
       "</div>"
      ],
      "text/plain": [
       "   pat_id  facility   region gender first_vaccine  enrollment_age  exit_age  \\\n",
       "0       1      51.0   Ghanzi      f           OPV               1        23   \n",
       "1       2      89.0    Chobe      f           OPV               0         0   \n",
       "2       3     161.0  Central      m           OPV               0         6   \n",
       "3       4     168.0  Central      f           OPV               6        34   \n",
       "4       5     183.0  Central      m           OPV               2        20   \n",
       "\n",
       "   opv_by_4mths  opv_by_6mths  dtp_by_4mths  dtp_by_6mths label  \n",
       "0             2             4             1             3   low  \n",
       "1             1             1             0             0  high  \n",
       "2             2             2             1             1  high  \n",
       "3             1             2             1             1  high  \n",
       "4             3             4             2             2   low  "
      ]
     },
     "execution_count": 17,
     "metadata": {},
     "output_type": "execute_result"
    }
   ],
   "source": [
    "df = create_label_table(dff)\n",
    "df.head()"
   ]
  },
  {
   "cell_type": "code",
   "execution_count": null,
   "metadata": {},
   "outputs": [],
   "source": []
  }
 ],
 "metadata": {
  "kernelspec": {
   "display_name": "Python 3",
   "language": "python",
   "name": "python3"
  },
  "language_info": {
   "codemirror_mode": {
    "name": "ipython",
    "version": 3
   },
   "file_extension": ".py",
   "mimetype": "text/x-python",
   "name": "python",
   "nbconvert_exporter": "python",
   "pygments_lexer": "ipython3",
   "version": "3.8.2"
  }
 },
 "nbformat": 4,
 "nbformat_minor": 4
}
