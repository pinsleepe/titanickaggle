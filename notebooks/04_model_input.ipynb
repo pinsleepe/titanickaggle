{
 "cells": [
  {
   "cell_type": "code",
   "execution_count": 1,
   "metadata": {},
   "outputs": [
    {
     "name": "stdout",
     "output_type": "stream",
     "text": [
      "2020-06-08 14:38:54,101 - root - INFO - ** Kedro project Immunization Drop-outs\n",
      "2020-06-08 14:38:54,101 - root - INFO - Defined global variable `context` and `catalog`\n"
     ]
    }
   ],
   "source": [
    "%reload_kedro"
   ]
  },
  {
   "cell_type": "code",
   "execution_count": 2,
   "metadata": {},
   "outputs": [
    {
     "name": "stdout",
     "output_type": "stream",
     "text": [
      "2020-06-08 14:38:54,106 - kedro.io.data_catalog - INFO - Loading data from `label_table` (CSVDataSet)...\n"
     ]
    }
   ],
   "source": [
    "dfl = catalog.load(\"label_table\")"
   ]
  },
  {
   "cell_type": "code",
   "execution_count": 3,
   "metadata": {},
   "outputs": [
    {
     "data": {
      "text/html": [
       "<div>\n",
       "<style scoped>\n",
       "    .dataframe tbody tr th:only-of-type {\n",
       "        vertical-align: middle;\n",
       "    }\n",
       "\n",
       "    .dataframe tbody tr th {\n",
       "        vertical-align: top;\n",
       "    }\n",
       "\n",
       "    .dataframe thead th {\n",
       "        text-align: right;\n",
       "    }\n",
       "</style>\n",
       "<table border=\"1\" class=\"dataframe\">\n",
       "  <thead>\n",
       "    <tr style=\"text-align: right;\">\n",
       "      <th></th>\n",
       "      <th>pat_id</th>\n",
       "      <th>facility</th>\n",
       "      <th>region</th>\n",
       "      <th>gender</th>\n",
       "      <th>first_vaccine</th>\n",
       "      <th>enrollment_age</th>\n",
       "      <th>exit_age</th>\n",
       "      <th>opv_by_4mths</th>\n",
       "      <th>opv_by_6mths</th>\n",
       "      <th>dtp_by_4mths</th>\n",
       "      <th>dtp_by_6mths</th>\n",
       "      <th>label</th>\n",
       "    </tr>\n",
       "  </thead>\n",
       "  <tbody>\n",
       "    <tr>\n",
       "      <th>0</th>\n",
       "      <td>1</td>\n",
       "      <td>51.0</td>\n",
       "      <td>Ghanzi</td>\n",
       "      <td>f</td>\n",
       "      <td>OPV</td>\n",
       "      <td>1</td>\n",
       "      <td>23</td>\n",
       "      <td>2</td>\n",
       "      <td>4</td>\n",
       "      <td>1</td>\n",
       "      <td>3</td>\n",
       "      <td>low</td>\n",
       "    </tr>\n",
       "    <tr>\n",
       "      <th>1</th>\n",
       "      <td>2</td>\n",
       "      <td>89.0</td>\n",
       "      <td>Chobe</td>\n",
       "      <td>f</td>\n",
       "      <td>OPV</td>\n",
       "      <td>0</td>\n",
       "      <td>0</td>\n",
       "      <td>1</td>\n",
       "      <td>1</td>\n",
       "      <td>0</td>\n",
       "      <td>0</td>\n",
       "      <td>high</td>\n",
       "    </tr>\n",
       "    <tr>\n",
       "      <th>2</th>\n",
       "      <td>3</td>\n",
       "      <td>161.0</td>\n",
       "      <td>Central</td>\n",
       "      <td>m</td>\n",
       "      <td>OPV</td>\n",
       "      <td>0</td>\n",
       "      <td>6</td>\n",
       "      <td>2</td>\n",
       "      <td>2</td>\n",
       "      <td>1</td>\n",
       "      <td>1</td>\n",
       "      <td>high</td>\n",
       "    </tr>\n",
       "    <tr>\n",
       "      <th>3</th>\n",
       "      <td>4</td>\n",
       "      <td>168.0</td>\n",
       "      <td>Central</td>\n",
       "      <td>f</td>\n",
       "      <td>OPV</td>\n",
       "      <td>6</td>\n",
       "      <td>34</td>\n",
       "      <td>1</td>\n",
       "      <td>2</td>\n",
       "      <td>1</td>\n",
       "      <td>1</td>\n",
       "      <td>high</td>\n",
       "    </tr>\n",
       "    <tr>\n",
       "      <th>4</th>\n",
       "      <td>5</td>\n",
       "      <td>183.0</td>\n",
       "      <td>Central</td>\n",
       "      <td>m</td>\n",
       "      <td>OPV</td>\n",
       "      <td>2</td>\n",
       "      <td>20</td>\n",
       "      <td>3</td>\n",
       "      <td>4</td>\n",
       "      <td>2</td>\n",
       "      <td>2</td>\n",
       "      <td>low</td>\n",
       "    </tr>\n",
       "  </tbody>\n",
       "</table>\n",
       "</div>"
      ],
      "text/plain": [
       "   pat_id  facility   region gender first_vaccine  enrollment_age  exit_age  \\\n",
       "0       1      51.0   Ghanzi      f           OPV               1        23   \n",
       "1       2      89.0    Chobe      f           OPV               0         0   \n",
       "2       3     161.0  Central      m           OPV               0         6   \n",
       "3       4     168.0  Central      f           OPV               6        34   \n",
       "4       5     183.0  Central      m           OPV               2        20   \n",
       "\n",
       "   opv_by_4mths  opv_by_6mths  dtp_by_4mths  dtp_by_6mths label  \n",
       "0             2             4             1             3   low  \n",
       "1             1             1             0             0  high  \n",
       "2             2             2             1             1  high  \n",
       "3             1             2             1             1  high  \n",
       "4             3             4             2             2   low  "
      ]
     },
     "execution_count": 3,
     "metadata": {},
     "output_type": "execute_result"
    }
   ],
   "source": [
    "dfl.head()"
   ]
  },
  {
   "cell_type": "code",
   "execution_count": 4,
   "metadata": {},
   "outputs": [
    {
     "name": "stdout",
     "output_type": "stream",
     "text": [
      "<class 'pandas.core.frame.DataFrame'>\n",
      "RangeIndex: 45675 entries, 0 to 45674\n",
      "Data columns (total 12 columns):\n",
      " #   Column          Non-Null Count  Dtype  \n",
      "---  ------          --------------  -----  \n",
      " 0   pat_id          45675 non-null  int64  \n",
      " 1   facility        45675 non-null  float64\n",
      " 2   region          45675 non-null  object \n",
      " 3   gender          45675 non-null  object \n",
      " 4   first_vaccine   45675 non-null  object \n",
      " 5   enrollment_age  45675 non-null  int64  \n",
      " 6   exit_age        45675 non-null  int64  \n",
      " 7   opv_by_4mths    45675 non-null  int64  \n",
      " 8   opv_by_6mths    45675 non-null  int64  \n",
      " 9   dtp_by_4mths    45675 non-null  int64  \n",
      " 10  dtp_by_6mths    45675 non-null  int64  \n",
      " 11  label           45675 non-null  object \n",
      "dtypes: float64(1), int64(7), object(4)\n",
      "memory usage: 4.2+ MB\n"
     ]
    }
   ],
   "source": [
    "dfl.info()"
   ]
  },
  {
   "cell_type": "code",
   "execution_count": 5,
   "metadata": {},
   "outputs": [
    {
     "data": {
      "text/plain": [
       "<matplotlib.axes._subplots.AxesSubplot at 0x7f0776515950>"
      ]
     },
     "execution_count": 5,
     "metadata": {},
     "output_type": "execute_result"
    },
    {
     "data": {
      "image/png": "[encoded data removed]",
      "text/plain": [
       "<Figure size 432x288 with 1 Axes>"
      ]
     },
     "metadata": {
      "needs_background": "light"
     },
     "output_type": "display_data"
    }
   ],
   "source": [
    "dfl['label'].value_counts().plot(kind='bar')"
   ]
  },
  {
   "cell_type": "code",
   "execution_count": 6,
   "metadata": {},
   "outputs": [
    {
     "data": {
      "text/plain": [
       "high    27814\n",
       "low     17861\n",
       "Name: label, dtype: int64"
      ]
     },
     "execution_count": 6,
     "metadata": {},
     "output_type": "execute_result"
    }
   ],
   "source": [
    "dfl['label'].value_counts()"
   ]
  },
  {
   "cell_type": "markdown",
   "metadata": {},
   "source": [
    "## Encoding Categorical Data"
   ]
  },
  {
   "cell_type": "markdown",
   "metadata": {},
   "source": [
    "Cast categorical data from object type to category."
   ]
  },
  {
   "cell_type": "code",
   "execution_count": 7,
   "metadata": {
    "tags": [
     "node"
    ]
   },
   "outputs": [],
   "source": [
    "def cast2category(df):\n",
    "    \"\"\"\n",
    "    Cast categorical data from object type to category.\n",
    "    \"\"\"\n",
    "    df['region'] = df['region'].astype('category')\n",
    "    df['gender'] = df['gender'].astype('category')\n",
    "    df['first_vaccine'] = df['first_vaccine'].astype('category')\n",
    "    df['label'] = df['label'].astype('category')\n",
    "    return df"
   ]
  },
  {
   "cell_type": "code",
   "execution_count": 8,
   "metadata": {},
   "outputs": [
    {
     "name": "stdout",
     "output_type": "stream",
     "text": [
      "<class 'pandas.core.frame.DataFrame'>\n",
      "RangeIndex: 45675 entries, 0 to 45674\n",
      "Data columns (total 12 columns):\n",
      " #   Column          Non-Null Count  Dtype   \n",
      "---  ------          --------------  -----   \n",
      " 0   pat_id          45675 non-null  int64   \n",
      " 1   facility        45675 non-null  float64 \n",
      " 2   region          45675 non-null  category\n",
      " 3   gender          45675 non-null  category\n",
      " 4   first_vaccine   45675 non-null  category\n",
      " 5   enrollment_age  45675 non-null  int64   \n",
      " 6   exit_age        45675 non-null  int64   \n",
      " 7   opv_by_4mths    45675 non-null  int64   \n",
      " 8   opv_by_6mths    45675 non-null  int64   \n",
      " 9   dtp_by_4mths    45675 non-null  int64   \n",
      " 10  dtp_by_6mths    45675 non-null  int64   \n",
      " 11  label           45675 non-null  category\n",
      "dtypes: category(4), float64(1), int64(7)\n",
      "memory usage: 3.0 MB\n"
     ]
    }
   ],
   "source": [
    "dfl = cast2category(dfl)\n",
    "dfl.info()"
   ]
  },
  {
   "cell_type": "code",
   "execution_count": 9,
   "metadata": {},
   "outputs": [],
   "source": [
    "from sklearn.preprocessing import LabelEncoder"
   ]
  },
  {
   "cell_type": "code",
   "execution_count": 10,
   "metadata": {
    "tags": [
     "node"
    ]
   },
   "outputs": [],
   "source": [
    "def encode_categories(df):\n",
    "    \"\"\"\n",
    "    Convert each value in a column to a number.\n",
    "    \"\"\"\n",
    "    lb_make = LabelEncoder()\n",
    "    df['region_code'] = lb_make.fit_transform(df['region'])\n",
    "    df['gender_code'] = lb_make.fit_transform(df['gender'])\n",
    "    df['first_vaccine_code'] = lb_make.fit_transform(df['first_vaccine'])\n",
    "    df['label_code'] = lb_make.fit_transform(df['label'])\n",
    "    return df"
   ]
  },
  {
   "cell_type": "code",
   "execution_count": 11,
   "metadata": {},
   "outputs": [
    {
     "data": {
      "text/html": [
       "<div>\n",
       "<style scoped>\n",
       "    .dataframe tbody tr th:only-of-type {\n",
       "        vertical-align: middle;\n",
       "    }\n",
       "\n",
       "    .dataframe tbody tr th {\n",
       "        vertical-align: top;\n",
       "    }\n",
       "\n",
       "    .dataframe thead th {\n",
       "        text-align: right;\n",
       "    }\n",
       "</style>\n",
       "<table border=\"1\" class=\"dataframe\">\n",
       "  <thead>\n",
       "    <tr style=\"text-align: right;\">\n",
       "      <th></th>\n",
       "      <th>pat_id</th>\n",
       "      <th>facility</th>\n",
       "      <th>region</th>\n",
       "      <th>gender</th>\n",
       "      <th>first_vaccine</th>\n",
       "      <th>enrollment_age</th>\n",
       "      <th>exit_age</th>\n",
       "      <th>opv_by_4mths</th>\n",
       "      <th>opv_by_6mths</th>\n",
       "      <th>dtp_by_4mths</th>\n",
       "      <th>dtp_by_6mths</th>\n",
       "      <th>label</th>\n",
       "      <th>region_code</th>\n",
       "      <th>gender_code</th>\n",
       "      <th>first_vaccine_code</th>\n",
       "      <th>label_code</th>\n",
       "    </tr>\n",
       "  </thead>\n",
       "  <tbody>\n",
       "    <tr>\n",
       "      <th>0</th>\n",
       "      <td>1</td>\n",
       "      <td>51.0</td>\n",
       "      <td>Ghanzi</td>\n",
       "      <td>f</td>\n",
       "      <td>OPV</td>\n",
       "      <td>1</td>\n",
       "      <td>23</td>\n",
       "      <td>2</td>\n",
       "      <td>4</td>\n",
       "      <td>1</td>\n",
       "      <td>3</td>\n",
       "      <td>low</td>\n",
       "      <td>4</td>\n",
       "      <td>0</td>\n",
       "      <td>1</td>\n",
       "      <td>1</td>\n",
       "    </tr>\n",
       "    <tr>\n",
       "      <th>1</th>\n",
       "      <td>2</td>\n",
       "      <td>89.0</td>\n",
       "      <td>Chobe</td>\n",
       "      <td>f</td>\n",
       "      <td>OPV</td>\n",
       "      <td>0</td>\n",
       "      <td>0</td>\n",
       "      <td>1</td>\n",
       "      <td>1</td>\n",
       "      <td>0</td>\n",
       "      <td>0</td>\n",
       "      <td>high</td>\n",
       "      <td>1</td>\n",
       "      <td>0</td>\n",
       "      <td>1</td>\n",
       "      <td>0</td>\n",
       "    </tr>\n",
       "    <tr>\n",
       "      <th>2</th>\n",
       "      <td>3</td>\n",
       "      <td>161.0</td>\n",
       "      <td>Central</td>\n",
       "      <td>m</td>\n",
       "      <td>OPV</td>\n",
       "      <td>0</td>\n",
       "      <td>6</td>\n",
       "      <td>2</td>\n",
       "      <td>2</td>\n",
       "      <td>1</td>\n",
       "      <td>1</td>\n",
       "      <td>high</td>\n",
       "      <td>0</td>\n",
       "      <td>1</td>\n",
       "      <td>1</td>\n",
       "      <td>0</td>\n",
       "    </tr>\n",
       "    <tr>\n",
       "      <th>3</th>\n",
       "      <td>4</td>\n",
       "      <td>168.0</td>\n",
       "      <td>Central</td>\n",
       "      <td>f</td>\n",
       "      <td>OPV</td>\n",
       "      <td>6</td>\n",
       "      <td>34</td>\n",
       "      <td>1</td>\n",
       "      <td>2</td>\n",
       "      <td>1</td>\n",
       "      <td>1</td>\n",
       "      <td>high</td>\n",
       "      <td>0</td>\n",
       "      <td>0</td>\n",
       "      <td>1</td>\n",
       "      <td>0</td>\n",
       "    </tr>\n",
       "    <tr>\n",
       "      <th>4</th>\n",
       "      <td>5</td>\n",
       "      <td>183.0</td>\n",
       "      <td>Central</td>\n",
       "      <td>m</td>\n",
       "      <td>OPV</td>\n",
       "      <td>2</td>\n",
       "      <td>20</td>\n",
       "      <td>3</td>\n",
       "      <td>4</td>\n",
       "      <td>2</td>\n",
       "      <td>2</td>\n",
       "      <td>low</td>\n",
       "      <td>0</td>\n",
       "      <td>1</td>\n",
       "      <td>1</td>\n",
       "      <td>1</td>\n",
       "    </tr>\n",
       "  </tbody>\n",
       "</table>\n",
       "</div>"
      ],
      "text/plain": [
       "   pat_id  facility   region gender first_vaccine  enrollment_age  exit_age  \\\n",
       "0       1      51.0   Ghanzi      f           OPV               1        23   \n",
       "1       2      89.0    Chobe      f           OPV               0         0   \n",
       "2       3     161.0  Central      m           OPV               0         6   \n",
       "3       4     168.0  Central      f           OPV               6        34   \n",
       "4       5     183.0  Central      m           OPV               2        20   \n",
       "\n",
       "   opv_by_4mths  opv_by_6mths  dtp_by_4mths  dtp_by_6mths label  region_code  \\\n",
       "0             2             4             1             3   low            4   \n",
       "1             1             1             0             0  high            1   \n",
       "2             2             2             1             1  high            0   \n",
       "3             1             2             1             1  high            0   \n",
       "4             3             4             2             2   low            0   \n",
       "\n",
       "   gender_code  first_vaccine_code  label_code  \n",
       "0            0                   1           1  \n",
       "1            0                   1           0  \n",
       "2            1                   1           0  \n",
       "3            0                   1           0  \n",
       "4            1                   1           1  "
      ]
     },
     "execution_count": 11,
     "metadata": {},
     "output_type": "execute_result"
    }
   ],
   "source": [
    "dfl = encode_categories(dfl)\n",
    "dfl.head()"
   ]
  },
  {
   "cell_type": "code",
   "execution_count": 12,
   "metadata": {
    "tags": [
     "node"
    ]
   },
   "outputs": [],
   "source": [
    "def model_input_table(df):\n",
    "    \"\"\"\n",
    "    Create table for the model training.\n",
    "    \"\"\"\n",
    "    df = df[['facility', 'first_vaccine_code', 'gender_code', 'region_code', 'dtp_by_4mths',\n",
    "            'opv_by_4mths', 'enrollment_age', 'label_code']]\n",
    "    return df"
   ]
  },
  {
   "cell_type": "code",
   "execution_count": 13,
   "metadata": {},
   "outputs": [
    {
     "data": {
      "text/html": [
       "<div>\n",
       "<style scoped>\n",
       "    .dataframe tbody tr th:only-of-type {\n",
       "        vertical-align: middle;\n",
       "    }\n",
       "\n",
       "    .dataframe tbody tr th {\n",
       "        vertical-align: top;\n",
       "    }\n",
       "\n",
       "    .dataframe thead th {\n",
       "        text-align: right;\n",
       "    }\n",
       "</style>\n",
       "<table border=\"1\" class=\"dataframe\">\n",
       "  <thead>\n",
       "    <tr style=\"text-align: right;\">\n",
       "      <th></th>\n",
       "      <th>facility</th>\n",
       "      <th>first_vaccine_code</th>\n",
       "      <th>gender_code</th>\n",
       "      <th>region_code</th>\n",
       "      <th>dtp_by_4mths</th>\n",
       "      <th>opv_by_4mths</th>\n",
       "      <th>enrollment_age</th>\n",
       "      <th>label_code</th>\n",
       "    </tr>\n",
       "  </thead>\n",
       "  <tbody>\n",
       "    <tr>\n",
       "      <th>0</th>\n",
       "      <td>51.0</td>\n",
       "      <td>1</td>\n",
       "      <td>0</td>\n",
       "      <td>4</td>\n",
       "      <td>1</td>\n",
       "      <td>2</td>\n",
       "      <td>1</td>\n",
       "      <td>1</td>\n",
       "    </tr>\n",
       "    <tr>\n",
       "      <th>1</th>\n",
       "      <td>89.0</td>\n",
       "      <td>1</td>\n",
       "      <td>0</td>\n",
       "      <td>1</td>\n",
       "      <td>0</td>\n",
       "      <td>1</td>\n",
       "      <td>0</td>\n",
       "      <td>0</td>\n",
       "    </tr>\n",
       "    <tr>\n",
       "      <th>2</th>\n",
       "      <td>161.0</td>\n",
       "      <td>1</td>\n",
       "      <td>1</td>\n",
       "      <td>0</td>\n",
       "      <td>1</td>\n",
       "      <td>2</td>\n",
       "      <td>0</td>\n",
       "      <td>0</td>\n",
       "    </tr>\n",
       "    <tr>\n",
       "      <th>3</th>\n",
       "      <td>168.0</td>\n",
       "      <td>1</td>\n",
       "      <td>0</td>\n",
       "      <td>0</td>\n",
       "      <td>1</td>\n",
       "      <td>1</td>\n",
       "      <td>6</td>\n",
       "      <td>0</td>\n",
       "    </tr>\n",
       "    <tr>\n",
       "      <th>4</th>\n",
       "      <td>183.0</td>\n",
       "      <td>1</td>\n",
       "      <td>1</td>\n",
       "      <td>0</td>\n",
       "      <td>2</td>\n",
       "      <td>3</td>\n",
       "      <td>2</td>\n",
       "      <td>1</td>\n",
       "    </tr>\n",
       "  </tbody>\n",
       "</table>\n",
       "</div>"
      ],
      "text/plain": [
       "   facility  first_vaccine_code  gender_code  region_code  dtp_by_4mths  \\\n",
       "0      51.0                   1            0            4             1   \n",
       "1      89.0                   1            0            1             0   \n",
       "2     161.0                   1            1            0             1   \n",
       "3     168.0                   1            0            0             1   \n",
       "4     183.0                   1            1            0             2   \n",
       "\n",
       "   opv_by_4mths  enrollment_age  label_code  \n",
       "0             2               1           1  \n",
       "1             1               0           0  \n",
       "2             2               0           0  \n",
       "3             1               6           0  \n",
       "4             3               2           1  "
      ]
     },
     "execution_count": 13,
     "metadata": {},
     "output_type": "execute_result"
    }
   ],
   "source": [
    "dfl = model_input_table(dfl)\n",
    "dfl.head()"
   ]
  },
  {
   "cell_type": "code",
   "execution_count": 14,
   "metadata": {
    "tags": [
     "node"
    ]
   },
   "outputs": [],
   "source": [
    "def create_model_table(label_table):\n",
    "    \"\"\"\n",
    "    Create table for the model training.\n",
    "    \"\"\"\n",
    "    df = encode_categories(label_table)\n",
    "    return model_input_table(df)"
   ]
  },
  {
   "cell_type": "code",
   "execution_count": 15,
   "metadata": {},
   "outputs": [],
   "source": [
    "import logging\n",
    "from typing import Dict, List\n",
    "\n",
    "import numpy as np\n",
    "import pandas as pd\n",
    "from sklearn.model_selection import train_test_split"
   ]
  },
  {
   "cell_type": "code",
   "execution_count": 16,
   "metadata": {
    "tags": [
     "node"
    ]
   },
   "outputs": [],
   "source": [
    "def split_data(data: pd.DataFrame, parameters: Dict) -> List:\n",
    "    \"\"\"\n",
    "    Splits data into training and test sets.\n",
    "    \"\"\"\n",
    "    X = data[\n",
    "        [\n",
    "            'facility', \n",
    "            'first_vaccine_code', \n",
    "            'gender_code', \n",
    "            'region_code', \n",
    "            'dtp_by_4mths',\n",
    "            'opv_by_4mths', \n",
    "            'enrollment_age',\n",
    "        ]\n",
    "    ].values\n",
    "    y = data[\"label_code\"].values\n",
    "    X_train, X_test, y_train, y_test = train_test_split(\n",
    "        X, y, test_size=parameters[\"test_size\"], random_state=parameters[\"random_state\"]\n",
    "    )\n",
    "\n",
    "    return [X_train, X_test, y_train, y_test]"
   ]
  },
  {
   "cell_type": "code",
   "execution_count": 17,
   "metadata": {},
   "outputs": [],
   "source": [
    "params = {\"test_size\": 0.2, \"random_state\": 3}\n",
    "[X_train, X_test, y_train, y_test] = split_data(dfl, params)"
   ]
  },
  {
   "cell_type": "code",
   "execution_count": null,
   "metadata": {},
   "outputs": [],
   "source": []
  }
 ],
 "metadata": {
  "kernelspec": {
   "display_name": "kedro2",
   "language": "python",
   "name": "kedro2"
  },
  "language_info": {
   "codemirror_mode": {
    "name": "ipython",
    "version": 3
   },
   "file_extension": ".py",
   "mimetype": "text/x-python",
   "name": "python",
   "nbconvert_exporter": "python",
   "pygments_lexer": "ipython3",
   "version": "3.7.7"
  }
 },
 "nbformat": 4,
 "nbformat_minor": 4
}
