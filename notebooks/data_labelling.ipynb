{
 "cells": [
  {
   "cell_type": "code",
   "execution_count": 1,
   "metadata": {},
   "outputs": [
    {
     "name": "stdout",
     "output_type": "stream",
     "text": [
      "2020-06-07 22:48:25,310 - root - INFO - ** Kedro project Immunization Drop-outs\n",
      "2020-06-07 22:48:25,311 - root - INFO - Defined global variable `context` and `catalog`\n"
     ]
    }
   ],
   "source": [
    "%reload_kedro"
   ]
  },
  {
   "cell_type": "code",
   "execution_count": 2,
   "metadata": {
    "scrolled": true
   },
   "outputs": [
    {
     "name": "stdout",
     "output_type": "stream",
     "text": [
      "2020-06-07 22:48:25,316 - kedro.io.data_catalog - INFO - Loading data from `preprocessed_patients` (CSVDataSet)...\n",
      "2020-06-07 22:48:25,365 - kedro.io.data_catalog - INFO - Loading data from `preprocessed_immunization` (CSVDataSet)...\n",
      "2020-06-07 22:48:25,462 - kedro.io.data_catalog - INFO - Loading data from `facilities` (CSVDataSet)...\n"
     ]
    }
   ],
   "source": [
    "dfp = catalog.load(\"preprocessed_patients\")\n",
    "dfi = catalog.load(\"preprocessed_immunization\")\n",
    "dff = catalog.load(\"facilities\")"
   ]
  },
  {
   "cell_type": "code",
   "execution_count": 3,
   "metadata": {
    "scrolled": true
   },
   "outputs": [
    {
     "data": {
      "text/plain": [
       "0"
      ]
     },
     "execution_count": 3,
     "metadata": {},
     "output_type": "execute_result"
    }
   ],
   "source": [
    "dfi.isnull().sum().sum()"
   ]
  },
  {
   "cell_type": "code",
   "execution_count": 4,
   "metadata": {},
   "outputs": [
    {
     "data": {
      "text/plain": [
       "0"
      ]
     },
     "execution_count": 4,
     "metadata": {},
     "output_type": "execute_result"
    }
   ],
   "source": [
    "dff.isnull().sum().sum()"
   ]
  },
  {
   "cell_type": "code",
   "execution_count": 5,
   "metadata": {},
   "outputs": [
    {
     "data": {
      "text/plain": [
       "0"
      ]
     },
     "execution_count": 5,
     "metadata": {},
     "output_type": "execute_result"
    }
   ],
   "source": [
    "dfp.isnull().sum().sum()"
   ]
  },
  {
   "cell_type": "code",
   "execution_count": 6,
   "metadata": {},
   "outputs": [
    {
     "data": {
      "text/plain": [
       "False"
      ]
     },
     "execution_count": 6,
     "metadata": {},
     "output_type": "execute_result"
    }
   ],
   "source": [
    "set(list(dfp.pat_id.unique())) == set(list(dfi.pat_id.unique()))"
   ]
  },
  {
   "cell_type": "markdown",
   "metadata": {},
   "source": [
    "* OPV (oral polio vaccine):\n",
    "    * Dose 1: birth\n",
    "    * Dose 2: 6 weeks\n",
    "    * Dose 3: 10 weeks,\n",
    "    * Dose 4: 14 weeks*\n",
    "* DTP (diphtheria, tetanus, pertussis)​:\n",
    "    * Dose 1: 6 weeks\n",
    "    * Dose 2: 10 weeks\n",
    "    * Dose 3: 14 weeks*\n",
    "    \n",
    "Data Dictionary: immunizations_db.csv\n",
    "* pat_id: The ID of the child.\n",
    "* vaccine: The abbreviated name of the vaccine the child attempted to receive.\n",
    "* im_date: Immunization date, i.e. the date the child received the vaccine.\n",
    "* successful: Whether or not the vaccination was successful.\n",
    "* reason_unsuccesful: If the vaccination was unsuccessful, the selected reason why.\n",
    "\n",
    "Data Dictionary: patients_db.csv\n",
    "* pat_id: The unique ID of the child.\n",
    "* dob: The date of birth of the child.\n",
    "* gender: The gender of the child.\n",
    "* fac_id: The unique ID of the health facility the child received the vaccination.\n",
    "* lat: The latitude of the facility.\n",
    "* long: The longitude of the facility.\n",
    "* district: The geographical district that the facility is located in."
   ]
  },
  {
   "cell_type": "markdown",
   "metadata": {},
   "source": [
    "First lets see how many vaccines each child received."
   ]
  },
  {
   "cell_type": "code",
   "execution_count": 7,
   "metadata": {},
   "outputs": [
    {
     "data": {
      "text/html": [
       "<div>\n",
       "<style scoped>\n",
       "    .dataframe tbody tr th:only-of-type {\n",
       "        vertical-align: middle;\n",
       "    }\n",
       "\n",
       "    .dataframe tbody tr th {\n",
       "        vertical-align: top;\n",
       "    }\n",
       "\n",
       "    .dataframe thead th {\n",
       "        text-align: right;\n",
       "    }\n",
       "</style>\n",
       "<table border=\"1\" class=\"dataframe\">\n",
       "  <thead>\n",
       "    <tr style=\"text-align: right;\">\n",
       "      <th></th>\n",
       "      <th>pat_id</th>\n",
       "      <th>vaccine</th>\n",
       "      <th>im_date</th>\n",
       "    </tr>\n",
       "  </thead>\n",
       "  <tbody>\n",
       "    <tr>\n",
       "      <th>0</th>\n",
       "      <td>1</td>\n",
       "      <td>OPV</td>\n",
       "      <td>2019-01-31</td>\n",
       "    </tr>\n",
       "    <tr>\n",
       "      <th>1</th>\n",
       "      <td>1</td>\n",
       "      <td>OPV</td>\n",
       "      <td>2019-04-03</td>\n",
       "    </tr>\n",
       "    <tr>\n",
       "      <th>2</th>\n",
       "      <td>1</td>\n",
       "      <td>OPV</td>\n",
       "      <td>2019-05-25</td>\n",
       "    </tr>\n",
       "    <tr>\n",
       "      <th>3</th>\n",
       "      <td>1</td>\n",
       "      <td>OPV</td>\n",
       "      <td>2019-07-06</td>\n",
       "    </tr>\n",
       "    <tr>\n",
       "      <th>4</th>\n",
       "      <td>1</td>\n",
       "      <td>DTP</td>\n",
       "      <td>2019-04-03</td>\n",
       "    </tr>\n",
       "  </tbody>\n",
       "</table>\n",
       "</div>"
      ],
      "text/plain": [
       "   pat_id vaccine     im_date\n",
       "0       1     OPV  2019-01-31\n",
       "1       1     OPV  2019-04-03\n",
       "2       1     OPV  2019-05-25\n",
       "3       1     OPV  2019-07-06\n",
       "4       1     DTP  2019-04-03"
      ]
     },
     "execution_count": 7,
     "metadata": {},
     "output_type": "execute_result"
    }
   ],
   "source": [
    "dfi.head()"
   ]
  },
  {
   "cell_type": "markdown",
   "metadata": {},
   "source": [
    "If I had more time, for labelling I would use snorkel (https://www.snorkel.org/) to label and manage this dataset. Here I will assign two labels:\n",
    "* high_risk\n",
    "* low_risk\n",
    "\n",
    "After getting more familiar with the nature of the problem, researching the topic and interviewing health workers I would definitely add more labels. Ideally, labelling would be done by a healthcare worker (someone with domain knowledge) or the data would have information if there was an intervention and at what time. Here, I have to asign labels based on my limited knowledge of the subject. The posibility of `garbage-in garbage-out` outcome is very high for that reason."
   ]
  },
  {
   "cell_type": "code",
   "execution_count": 8,
   "metadata": {},
   "outputs": [
    {
     "data": {
      "text/plain": [
       "1106"
      ]
     },
     "execution_count": 8,
     "metadata": {},
     "output_type": "execute_result"
    }
   ],
   "source": [
    "len(set(list(dfp.pat_id.unique())) - set(list(dfi.pat_id.unique())))"
   ]
  },
  {
   "cell_type": "markdown",
   "metadata": {},
   "source": [
    "There are 1106 patients without immunizations records. I will treat it as data capture mistake as each child should receive a vaccine at birth. If I had more time I would investigate if those records come from specific district etc. "
   ]
  },
  {
   "cell_type": "code",
   "execution_count": 9,
   "metadata": {},
   "outputs": [],
   "source": [
    "bad_pat_id = list(set(list(dfp.pat_id.unique())) - set(list(dfi.pat_id.unique())))\n",
    "dfp = dfp[~dfp.pat_id.isin(bad_pat_id)]"
   ]
  },
  {
   "cell_type": "code",
   "execution_count": 10,
   "metadata": {
    "tags": [
     "node"
    ]
   },
   "outputs": [],
   "source": [
    "def remove_bad_pat_id(df0, df1):\n",
    "    \"\"\"\n",
    "    Remove patients without immunizations records.\n",
    "    \"\"\"\n",
    "    bad_pat_id = list(set(list(dfp.pat_id.unique())) - set(list(dfi.pat_id.unique())))\n",
    "    return dfp[~dfp.pat_id.isin(bad_pat_id)]"
   ]
  },
  {
   "cell_type": "markdown",
   "metadata": {},
   "source": [
    "First I will join all my processed datasets."
   ]
  },
  {
   "cell_type": "code",
   "execution_count": 11,
   "metadata": {
    "scrolled": true
   },
   "outputs": [
    {
     "data": {
      "text/html": [
       "<div>\n",
       "<style scoped>\n",
       "    .dataframe tbody tr th:only-of-type {\n",
       "        vertical-align: middle;\n",
       "    }\n",
       "\n",
       "    .dataframe tbody tr th {\n",
       "        vertical-align: top;\n",
       "    }\n",
       "\n",
       "    .dataframe thead th {\n",
       "        text-align: right;\n",
       "    }\n",
       "</style>\n",
       "<table border=\"1\" class=\"dataframe\">\n",
       "  <thead>\n",
       "    <tr style=\"text-align: right;\">\n",
       "      <th></th>\n",
       "      <th>pat_id</th>\n",
       "      <th>fac_id</th>\n",
       "      <th>dob</th>\n",
       "      <th>gender</th>\n",
       "      <th>long</th>\n",
       "      <th>lat</th>\n",
       "      <th>region</th>\n",
       "      <th>district</th>\n",
       "    </tr>\n",
       "  </thead>\n",
       "  <tbody>\n",
       "    <tr>\n",
       "      <th>0</th>\n",
       "      <td>1</td>\n",
       "      <td>51.0</td>\n",
       "      <td>2019-01-22</td>\n",
       "      <td>f</td>\n",
       "      <td>21.678399</td>\n",
       "      <td>-21.739251</td>\n",
       "      <td>Ghanzi</td>\n",
       "      <td>Ghanzi</td>\n",
       "    </tr>\n",
       "    <tr>\n",
       "      <th>1</th>\n",
       "      <td>2</td>\n",
       "      <td>89.0</td>\n",
       "      <td>2019-11-12</td>\n",
       "      <td>f</td>\n",
       "      <td>24.877556</td>\n",
       "      <td>-18.370709</td>\n",
       "      <td>Chobe</td>\n",
       "      <td>Chobe</td>\n",
       "    </tr>\n",
       "    <tr>\n",
       "      <th>2</th>\n",
       "      <td>3</td>\n",
       "      <td>161.0</td>\n",
       "      <td>2019-11-03</td>\n",
       "      <td>m</td>\n",
       "      <td>25.249672</td>\n",
       "      <td>-20.490189</td>\n",
       "      <td>Central</td>\n",
       "      <td>Tutume</td>\n",
       "    </tr>\n",
       "    <tr>\n",
       "      <th>3</th>\n",
       "      <td>4</td>\n",
       "      <td>168.0</td>\n",
       "      <td>2019-04-17</td>\n",
       "      <td>f</td>\n",
       "      <td>25.579269</td>\n",
       "      <td>-21.412151</td>\n",
       "      <td>Central</td>\n",
       "      <td>Lethlakane</td>\n",
       "    </tr>\n",
       "    <tr>\n",
       "      <th>4</th>\n",
       "      <td>5</td>\n",
       "      <td>183.0</td>\n",
       "      <td>2018-12-08</td>\n",
       "      <td>m</td>\n",
       "      <td>28.487746</td>\n",
       "      <td>-22.571451</td>\n",
       "      <td>Central</td>\n",
       "      <td>Tuli</td>\n",
       "    </tr>\n",
       "  </tbody>\n",
       "</table>\n",
       "</div>"
      ],
      "text/plain": [
       "   pat_id  fac_id         dob gender       long        lat   region  \\\n",
       "0       1    51.0  2019-01-22      f  21.678399 -21.739251   Ghanzi   \n",
       "1       2    89.0  2019-11-12      f  24.877556 -18.370709    Chobe   \n",
       "2       3   161.0  2019-11-03      m  25.249672 -20.490189  Central   \n",
       "3       4   168.0  2019-04-17      f  25.579269 -21.412151  Central   \n",
       "4       5   183.0  2018-12-08      m  28.487746 -22.571451  Central   \n",
       "\n",
       "     district  \n",
       "0      Ghanzi  \n",
       "1       Chobe  \n",
       "2      Tutume  \n",
       "3  Lethlakane  \n",
       "4        Tuli  "
      ]
     },
     "execution_count": 11,
     "metadata": {},
     "output_type": "execute_result"
    }
   ],
   "source": [
    "dfp.head()"
   ]
  },
  {
   "cell_type": "code",
   "execution_count": 12,
   "metadata": {},
   "outputs": [],
   "source": [
    "import pandas as pd"
   ]
  },
  {
   "cell_type": "code",
   "execution_count": 13,
   "metadata": {
    "scrolled": true
   },
   "outputs": [
    {
     "data": {
      "text/html": [
       "<div>\n",
       "<style scoped>\n",
       "    .dataframe tbody tr th:only-of-type {\n",
       "        vertical-align: middle;\n",
       "    }\n",
       "\n",
       "    .dataframe tbody tr th {\n",
       "        vertical-align: top;\n",
       "    }\n",
       "\n",
       "    .dataframe thead th {\n",
       "        text-align: right;\n",
       "    }\n",
       "</style>\n",
       "<table border=\"1\" class=\"dataframe\">\n",
       "  <thead>\n",
       "    <tr style=\"text-align: right;\">\n",
       "      <th></th>\n",
       "      <th>pat_id</th>\n",
       "      <th>vaccine</th>\n",
       "      <th>im_date</th>\n",
       "      <th>fac_id</th>\n",
       "      <th>dob</th>\n",
       "      <th>gender</th>\n",
       "      <th>long</th>\n",
       "      <th>lat</th>\n",
       "      <th>region</th>\n",
       "      <th>district</th>\n",
       "    </tr>\n",
       "  </thead>\n",
       "  <tbody>\n",
       "    <tr>\n",
       "      <th>0</th>\n",
       "      <td>1</td>\n",
       "      <td>OPV</td>\n",
       "      <td>2019-01-31</td>\n",
       "      <td>51.0</td>\n",
       "      <td>2019-01-22</td>\n",
       "      <td>f</td>\n",
       "      <td>21.678399</td>\n",
       "      <td>-21.739251</td>\n",
       "      <td>Ghanzi</td>\n",
       "      <td>Ghanzi</td>\n",
       "    </tr>\n",
       "    <tr>\n",
       "      <th>1</th>\n",
       "      <td>1</td>\n",
       "      <td>OPV</td>\n",
       "      <td>2019-04-03</td>\n",
       "      <td>51.0</td>\n",
       "      <td>2019-01-22</td>\n",
       "      <td>f</td>\n",
       "      <td>21.678399</td>\n",
       "      <td>-21.739251</td>\n",
       "      <td>Ghanzi</td>\n",
       "      <td>Ghanzi</td>\n",
       "    </tr>\n",
       "    <tr>\n",
       "      <th>2</th>\n",
       "      <td>1</td>\n",
       "      <td>OPV</td>\n",
       "      <td>2019-05-25</td>\n",
       "      <td>51.0</td>\n",
       "      <td>2019-01-22</td>\n",
       "      <td>f</td>\n",
       "      <td>21.678399</td>\n",
       "      <td>-21.739251</td>\n",
       "      <td>Ghanzi</td>\n",
       "      <td>Ghanzi</td>\n",
       "    </tr>\n",
       "    <tr>\n",
       "      <th>3</th>\n",
       "      <td>1</td>\n",
       "      <td>OPV</td>\n",
       "      <td>2019-07-06</td>\n",
       "      <td>51.0</td>\n",
       "      <td>2019-01-22</td>\n",
       "      <td>f</td>\n",
       "      <td>21.678399</td>\n",
       "      <td>-21.739251</td>\n",
       "      <td>Ghanzi</td>\n",
       "      <td>Ghanzi</td>\n",
       "    </tr>\n",
       "    <tr>\n",
       "      <th>4</th>\n",
       "      <td>1</td>\n",
       "      <td>DTP</td>\n",
       "      <td>2019-04-03</td>\n",
       "      <td>51.0</td>\n",
       "      <td>2019-01-22</td>\n",
       "      <td>f</td>\n",
       "      <td>21.678399</td>\n",
       "      <td>-21.739251</td>\n",
       "      <td>Ghanzi</td>\n",
       "      <td>Ghanzi</td>\n",
       "    </tr>\n",
       "  </tbody>\n",
       "</table>\n",
       "</div>"
      ],
      "text/plain": [
       "   pat_id vaccine     im_date  fac_id         dob gender       long  \\\n",
       "0       1     OPV  2019-01-31    51.0  2019-01-22      f  21.678399   \n",
       "1       1     OPV  2019-04-03    51.0  2019-01-22      f  21.678399   \n",
       "2       1     OPV  2019-05-25    51.0  2019-01-22      f  21.678399   \n",
       "3       1     OPV  2019-07-06    51.0  2019-01-22      f  21.678399   \n",
       "4       1     DTP  2019-04-03    51.0  2019-01-22      f  21.678399   \n",
       "\n",
       "         lat  region district  \n",
       "0 -21.739251  Ghanzi   Ghanzi  \n",
       "1 -21.739251  Ghanzi   Ghanzi  \n",
       "2 -21.739251  Ghanzi   Ghanzi  \n",
       "3 -21.739251  Ghanzi   Ghanzi  \n",
       "4 -21.739251  Ghanzi   Ghanzi  "
      ]
     },
     "execution_count": 13,
     "metadata": {},
     "output_type": "execute_result"
    }
   ],
   "source": [
    "df_outer = pd.merge(dfi, dfp, on='pat_id', how='outer')\n",
    "df_outer.head()"
   ]
  },
  {
   "cell_type": "code",
   "execution_count": 14,
   "metadata": {},
   "outputs": [
    {
     "data": {
      "text/plain": [
       "0"
      ]
     },
     "execution_count": 14,
     "metadata": {},
     "output_type": "execute_result"
    }
   ],
   "source": [
    "df_outer.isnull().sum().sum()"
   ]
  },
  {
   "cell_type": "code",
   "execution_count": 15,
   "metadata": {
    "tags": [
     "node"
    ]
   },
   "outputs": [],
   "source": [
    "def build_primary_table(df0, df1):\n",
    "    \"\"\"\n",
    "    Join preprocessed_patients and preprocessed_immunization\n",
    "    dataframes. Drop successful == False records.\n",
    "    \"\"\"\n",
    "    df = remove_bad_pat_id(df0, df1)\n",
    "    df = pd.merge(df0, df1, on='pat_id', how='outer')\n",
    "    df = df[df.successful == True]\n",
    "    df.drop(['successful', 'reason_unsuccesful'], 1)\n",
    "    df = df.reset_index(drop=True)\n",
    "    return df"
   ]
  },
  {
   "cell_type": "code",
   "execution_count": 16,
   "metadata": {},
   "outputs": [
    {
     "data": {
      "text/html": [
       "<div>\n",
       "<style scoped>\n",
       "    .dataframe tbody tr th:only-of-type {\n",
       "        vertical-align: middle;\n",
       "    }\n",
       "\n",
       "    .dataframe tbody tr th {\n",
       "        vertical-align: top;\n",
       "    }\n",
       "\n",
       "    .dataframe thead th {\n",
       "        text-align: right;\n",
       "    }\n",
       "</style>\n",
       "<table border=\"1\" class=\"dataframe\">\n",
       "  <thead>\n",
       "    <tr style=\"text-align: right;\">\n",
       "      <th></th>\n",
       "      <th>pat_id</th>\n",
       "      <th>vaccine</th>\n",
       "      <th>im_date</th>\n",
       "      <th>fac_id</th>\n",
       "      <th>dob</th>\n",
       "      <th>gender</th>\n",
       "      <th>long</th>\n",
       "      <th>lat</th>\n",
       "      <th>region</th>\n",
       "      <th>district</th>\n",
       "    </tr>\n",
       "  </thead>\n",
       "  <tbody>\n",
       "    <tr>\n",
       "      <th>7</th>\n",
       "      <td>2</td>\n",
       "      <td>OPV</td>\n",
       "      <td>2019-11-12</td>\n",
       "      <td>89.0</td>\n",
       "      <td>2019-11-12</td>\n",
       "      <td>f</td>\n",
       "      <td>24.877556</td>\n",
       "      <td>-18.370709</td>\n",
       "      <td>Chobe</td>\n",
       "      <td>Chobe</td>\n",
       "    </tr>\n",
       "  </tbody>\n",
       "</table>\n",
       "</div>"
      ],
      "text/plain": [
       "   pat_id vaccine     im_date  fac_id         dob gender       long  \\\n",
       "7       2     OPV  2019-11-12    89.0  2019-11-12      f  24.877556   \n",
       "\n",
       "         lat region district  \n",
       "7 -18.370709  Chobe    Chobe  "
      ]
     },
     "execution_count": 16,
     "metadata": {},
     "output_type": "execute_result"
    }
   ],
   "source": [
    "df_outer[df_outer.pat_id == 2].sort_values('im_date')"
   ]
  },
  {
   "cell_type": "markdown",
   "metadata": {},
   "source": [
    "## Features"
   ]
  },
  {
   "cell_type": "markdown",
   "metadata": {},
   "source": [
    "For my list of predictors I will use:\n",
    "* Gender\n",
    "* Facility\n",
    "* Region\n",
    "* First vaccine type\n",
    "* Enrollment age in weeks\n",
    "* Exit age in weeks\n",
    "* Vaccine timeliness (on-time, late, early)\n"
   ]
  },
  {
   "cell_type": "markdown",
   "metadata": {},
   "source": [
    "Create feature dataframe:"
   ]
  },
  {
   "cell_type": "code",
   "execution_count": 17,
   "metadata": {},
   "outputs": [],
   "source": [
    "pat_id = list(df_outer.pat_id.unique())\n",
    "# feature_df = pd.DataFrame(pat_id, columns = ['pat_id']) \n",
    "# feature_df.shape[0]"
   ]
  },
  {
   "cell_type": "code",
   "execution_count": 18,
   "metadata": {},
   "outputs": [
    {
     "data": {
      "text/plain": [
       "'f'"
      ]
     },
     "execution_count": 18,
     "metadata": {},
     "output_type": "execute_result"
    }
   ],
   "source": [
    "dfp[dfp.pat_id == 1].iloc[-1].gender"
   ]
  },
  {
   "cell_type": "code",
   "execution_count": 35,
   "metadata": {
    "tags": [
     "node"
    ]
   },
   "outputs": [],
   "source": [
    "def extract_temp_df(df, pid):\n",
    "    \"\"\"\n",
    "    Extract all records for a patient from the primary table\n",
    "    and sort by immunization date.\n",
    "    \"\"\"\n",
    "    df = df[df.pat_id == pid].sort_values('im_date')\n",
    "    df['im_date'] = pd.to_datetime(df['im_date'], format='%Y-%m-%d')\n",
    "    df['dob'] = pd.to_datetime(df['dob'], format='%Y-%m-%d')\n",
    "    return df"
   ]
  },
  {
   "cell_type": "code",
   "execution_count": 43,
   "metadata": {
    "scrolled": true
   },
   "outputs": [
    {
     "data": {
      "text/html": [
       "<div>\n",
       "<style scoped>\n",
       "    .dataframe tbody tr th:only-of-type {\n",
       "        vertical-align: middle;\n",
       "    }\n",
       "\n",
       "    .dataframe tbody tr th {\n",
       "        vertical-align: top;\n",
       "    }\n",
       "\n",
       "    .dataframe thead th {\n",
       "        text-align: right;\n",
       "    }\n",
       "</style>\n",
       "<table border=\"1\" class=\"dataframe\">\n",
       "  <thead>\n",
       "    <tr style=\"text-align: right;\">\n",
       "      <th></th>\n",
       "      <th>pat_id</th>\n",
       "      <th>vaccine</th>\n",
       "      <th>im_date</th>\n",
       "      <th>fac_id</th>\n",
       "      <th>dob</th>\n",
       "      <th>gender</th>\n",
       "      <th>long</th>\n",
       "      <th>lat</th>\n",
       "      <th>region</th>\n",
       "      <th>district</th>\n",
       "    </tr>\n",
       "  </thead>\n",
       "  <tbody>\n",
       "    <tr>\n",
       "      <th>18</th>\n",
       "      <td>5</td>\n",
       "      <td>OPV</td>\n",
       "      <td>2018-12-24</td>\n",
       "      <td>183.0</td>\n",
       "      <td>2018-12-08</td>\n",
       "      <td>m</td>\n",
       "      <td>28.487746</td>\n",
       "      <td>-22.571451</td>\n",
       "      <td>Central</td>\n",
       "      <td>Tuli</td>\n",
       "    </tr>\n",
       "    <tr>\n",
       "      <th>19</th>\n",
       "      <td>5</td>\n",
       "      <td>OPV</td>\n",
       "      <td>2019-02-10</td>\n",
       "      <td>183.0</td>\n",
       "      <td>2018-12-08</td>\n",
       "      <td>m</td>\n",
       "      <td>28.487746</td>\n",
       "      <td>-22.571451</td>\n",
       "      <td>Central</td>\n",
       "      <td>Tuli</td>\n",
       "    </tr>\n",
       "    <tr>\n",
       "      <th>22</th>\n",
       "      <td>5</td>\n",
       "      <td>DTP</td>\n",
       "      <td>2019-02-10</td>\n",
       "      <td>183.0</td>\n",
       "      <td>2018-12-08</td>\n",
       "      <td>m</td>\n",
       "      <td>28.487746</td>\n",
       "      <td>-22.571451</td>\n",
       "      <td>Central</td>\n",
       "      <td>Tuli</td>\n",
       "    </tr>\n",
       "    <tr>\n",
       "      <th>20</th>\n",
       "      <td>5</td>\n",
       "      <td>OPV</td>\n",
       "      <td>2019-03-18</td>\n",
       "      <td>183.0</td>\n",
       "      <td>2018-12-08</td>\n",
       "      <td>m</td>\n",
       "      <td>28.487746</td>\n",
       "      <td>-22.571451</td>\n",
       "      <td>Central</td>\n",
       "      <td>Tuli</td>\n",
       "    </tr>\n",
       "    <tr>\n",
       "      <th>23</th>\n",
       "      <td>5</td>\n",
       "      <td>DTP</td>\n",
       "      <td>2019-03-18</td>\n",
       "      <td>183.0</td>\n",
       "      <td>2018-12-08</td>\n",
       "      <td>m</td>\n",
       "      <td>28.487746</td>\n",
       "      <td>-22.571451</td>\n",
       "      <td>Central</td>\n",
       "      <td>Tuli</td>\n",
       "    </tr>\n",
       "    <tr>\n",
       "      <th>21</th>\n",
       "      <td>5</td>\n",
       "      <td>OPV</td>\n",
       "      <td>2019-04-27</td>\n",
       "      <td>183.0</td>\n",
       "      <td>2018-12-08</td>\n",
       "      <td>m</td>\n",
       "      <td>28.487746</td>\n",
       "      <td>-22.571451</td>\n",
       "      <td>Central</td>\n",
       "      <td>Tuli</td>\n",
       "    </tr>\n",
       "  </tbody>\n",
       "</table>\n",
       "</div>"
      ],
      "text/plain": [
       "    pat_id vaccine    im_date  fac_id        dob gender       long        lat  \\\n",
       "18       5     OPV 2018-12-24   183.0 2018-12-08      m  28.487746 -22.571451   \n",
       "19       5     OPV 2019-02-10   183.0 2018-12-08      m  28.487746 -22.571451   \n",
       "22       5     DTP 2019-02-10   183.0 2018-12-08      m  28.487746 -22.571451   \n",
       "20       5     OPV 2019-03-18   183.0 2018-12-08      m  28.487746 -22.571451   \n",
       "23       5     DTP 2019-03-18   183.0 2018-12-08      m  28.487746 -22.571451   \n",
       "21       5     OPV 2019-04-27   183.0 2018-12-08      m  28.487746 -22.571451   \n",
       "\n",
       "     region district  \n",
       "18  Central     Tuli  \n",
       "19  Central     Tuli  \n",
       "22  Central     Tuli  \n",
       "20  Central     Tuli  \n",
       "23  Central     Tuli  \n",
       "21  Central     Tuli  "
      ]
     },
     "execution_count": 43,
     "metadata": {},
     "output_type": "execute_result"
    }
   ],
   "source": [
    "# test df\n",
    "test_df = extract_temp_df(df_outer, 5)\n",
    "test_df"
   ]
  },
  {
   "cell_type": "code",
   "execution_count": 49,
   "metadata": {},
   "outputs": [
    {
     "data": {
      "text/plain": [
       "18"
      ]
     },
     "execution_count": 49,
     "metadata": {},
     "output_type": "execute_result"
    }
   ],
   "source": [
    "test_df['im_date'].idxmin()"
   ]
  },
  {
   "cell_type": "code",
   "execution_count": 47,
   "metadata": {},
   "outputs": [
    {
     "data": {
      "text/plain": [
       "'OPV'"
      ]
     },
     "execution_count": 47,
     "metadata": {},
     "output_type": "execute_result"
    }
   ],
   "source": [
    "test_df.vaccine.loc[18]"
   ]
  },
  {
   "cell_type": "code",
   "execution_count": 48,
   "metadata": {
    "tags": [
     "node"
    ]
   },
   "outputs": [],
   "source": [
    "def feature_first_vaccine(df):\n",
    "    \"\"\"\n",
    "    First vaccine, accepts temporarys dataframe for \n",
    "    a patient.\n",
    "    \"\"\"\n",
    "    idx = df['im_date'].idxmin()\n",
    "    return df.vaccine.loc[idx]"
   ]
  },
  {
   "cell_type": "code",
   "execution_count": 22,
   "metadata": {},
   "outputs": [],
   "source": [
    "import math"
   ]
  },
  {
   "cell_type": "code",
   "execution_count": 23,
   "metadata": {
    "tags": [
     "node"
    ]
   },
   "outputs": [],
   "source": [
    "def feature_enrollment_age(df):\n",
    "    \"\"\"\n",
    "    Enrollment age in weeks.\n",
    "    \"\"\"\n",
    "    return math.floor(((df.im_date.min() - df.dob.min()) / np.timedelta64(1, 'W')))"
   ]
  },
  {
   "cell_type": "code",
   "execution_count": 24,
   "metadata": {
    "tags": [
     "node"
    ]
   },
   "outputs": [],
   "source": [
    "def feature_exit_age(df):\n",
    "    \"\"\"\n",
    "    Exit age in weeks.\n",
    "    \"\"\"\n",
    "    return math.floor(((df.im_date.max() - df.dob.min()) / np.timedelta64(1, 'W')))"
   ]
  },
  {
   "cell_type": "code",
   "execution_count": null,
   "metadata": {
    "tags": [
     "node"
    ]
   },
   "outputs": [],
   "source": [
    "def feature_opv_by_4mths(df):\n",
    "    \"\"\"\n",
    "    Number of OPV vaccines received by 4 months\n",
    "    \"\"\"\n",
    "    "
   ]
  },
  {
   "cell_type": "code",
   "execution_count": null,
   "metadata": {},
   "outputs": [],
   "source": []
  },
  {
   "cell_type": "markdown",
   "metadata": {},
   "source": [
    "* OPV (oral polio vaccine):\n",
    "    * Dose 1: birth\n",
    "    * Dose 2: 6 weeks\n",
    "    * Dose 3: 10 weeks,\n",
    "    * Dose 4: 14 weeks*\n",
    "* DTP (diphtheria, tetanus, pertussis)​:\n",
    "    * Dose 1: 6 weeks\n",
    "    * Dose 2: 10 weeks\n",
    "    * Dose 3: 14 weeks*"
   ]
  },
  {
   "cell_type": "code",
   "execution_count": 25,
   "metadata": {},
   "outputs": [],
   "source": [
    "import numpy as np"
   ]
  },
  {
   "cell_type": "code",
   "execution_count": 50,
   "metadata": {
    "scrolled": true
   },
   "outputs": [
    {
     "data": {
      "text/html": [
       "<div>\n",
       "<style scoped>\n",
       "    .dataframe tbody tr th:only-of-type {\n",
       "        vertical-align: middle;\n",
       "    }\n",
       "\n",
       "    .dataframe tbody tr th {\n",
       "        vertical-align: top;\n",
       "    }\n",
       "\n",
       "    .dataframe thead th {\n",
       "        text-align: right;\n",
       "    }\n",
       "</style>\n",
       "<table border=\"1\" class=\"dataframe\">\n",
       "  <thead>\n",
       "    <tr style=\"text-align: right;\">\n",
       "      <th></th>\n",
       "      <th>pat_id</th>\n",
       "      <th>facility</th>\n",
       "      <th>region</th>\n",
       "      <th>gender</th>\n",
       "      <th>first_vaccine</th>\n",
       "      <th>enrollment_age</th>\n",
       "      <th>exit_age</th>\n",
       "    </tr>\n",
       "  </thead>\n",
       "  <tbody>\n",
       "    <tr>\n",
       "      <th>0</th>\n",
       "      <td>1</td>\n",
       "      <td>51.0</td>\n",
       "      <td>Ghanzi</td>\n",
       "      <td>f</td>\n",
       "      <td>OPV</td>\n",
       "      <td>1</td>\n",
       "      <td>23</td>\n",
       "    </tr>\n",
       "    <tr>\n",
       "      <th>1</th>\n",
       "      <td>2</td>\n",
       "      <td>89.0</td>\n",
       "      <td>Chobe</td>\n",
       "      <td>f</td>\n",
       "      <td>OPV</td>\n",
       "      <td>0</td>\n",
       "      <td>0</td>\n",
       "    </tr>\n",
       "    <tr>\n",
       "      <th>2</th>\n",
       "      <td>3</td>\n",
       "      <td>161.0</td>\n",
       "      <td>Central</td>\n",
       "      <td>m</td>\n",
       "      <td>OPV</td>\n",
       "      <td>0</td>\n",
       "      <td>6</td>\n",
       "    </tr>\n",
       "    <tr>\n",
       "      <th>3</th>\n",
       "      <td>4</td>\n",
       "      <td>168.0</td>\n",
       "      <td>Central</td>\n",
       "      <td>f</td>\n",
       "      <td>OPV</td>\n",
       "      <td>6</td>\n",
       "      <td>34</td>\n",
       "    </tr>\n",
       "    <tr>\n",
       "      <th>4</th>\n",
       "      <td>5</td>\n",
       "      <td>183.0</td>\n",
       "      <td>Central</td>\n",
       "      <td>m</td>\n",
       "      <td>OPV</td>\n",
       "      <td>2</td>\n",
       "      <td>20</td>\n",
       "    </tr>\n",
       "  </tbody>\n",
       "</table>\n",
       "</div>"
      ],
      "text/plain": [
       "   pat_id  facility   region gender first_vaccine  enrollment_age  exit_age\n",
       "0       1      51.0   Ghanzi      f           OPV               1        23\n",
       "1       2      89.0    Chobe      f           OPV               0         0\n",
       "2       3     161.0  Central      m           OPV               0         6\n",
       "3       4     168.0  Central      f           OPV               6        34\n",
       "4       5     183.0  Central      m           OPV               2        20"
      ]
     },
     "execution_count": 50,
     "metadata": {},
     "output_type": "execute_result"
    }
   ],
   "source": [
    "feature_df_list = []\n",
    "for p in pat_id:\n",
    "    \n",
    "    pat_dict = dict()\n",
    "    pat_dict['pat_id'] = p\n",
    "    \n",
    "    pat_df = extract_temp_df(df_outer, p)\n",
    "    \n",
    "    facility = pat_df.iloc[-1].fac_id\n",
    "    pat_dict['facility'] = facility\n",
    "    \n",
    "    region = pat_df.iloc[-1].region\n",
    "    pat_dict['region'] = region\n",
    "    \n",
    "    gender = pat_df.iloc[-1].gender\n",
    "    pat_dict['gender'] = gender\n",
    "    \n",
    "    vaccine = feature_first_vaccine(pat_df)\n",
    "    pat_dict['first_vaccine'] = vaccine\n",
    "    \n",
    "    pat_dict['enrollment_age'] = feature_enrollment_age(pat_df)\n",
    "    pat_dict['exit_age'] = feature_exit_age(pat_df)\n",
    "    \n",
    "    feature_df_list.append(pat_dict)\n",
    "\n",
    "feature_df = pd.DataFrame(feature_df_list)\n",
    "feature_df.head()"
   ]
  },
  {
   "cell_type": "code",
   "execution_count": 29,
   "metadata": {},
   "outputs": [
    {
     "data": {
      "text/plain": [
       "(45675, 6)"
      ]
     },
     "execution_count": 29,
     "metadata": {},
     "output_type": "execute_result"
    }
   ],
   "source": [
    "feature_df.shape"
   ]
  },
  {
   "cell_type": "code",
   "execution_count": null,
   "metadata": {},
   "outputs": [],
   "source": []
  }
 ],
 "metadata": {
  "celltoolbar": "Tags",
  "kernelspec": {
   "display_name": "ImmunizationDropouts",
   "language": "python",
   "name": "python3"
  },
  "language_info": {
   "codemirror_mode": {
    "name": "ipython",
    "version": 3
   },
   "file_extension": ".py",
   "mimetype": "text/x-python",
   "name": "python",
   "nbconvert_exporter": "python",
   "pygments_lexer": "ipython3",
   "version": "3.8.2"
  }
 },
 "nbformat": 4,
 "nbformat_minor": 4
}
