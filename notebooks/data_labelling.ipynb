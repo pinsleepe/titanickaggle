{
 "cells": [
  {
   "cell_type": "markdown",
   "metadata": {},
   "source": [
    "* OPV (oral polio vaccine):\n",
    "    * Dose 1: birth\n",
    "    * Dose 2: 6 weeks\n",
    "    * Dose 3: 10 weeks,\n",
    "    * Dose 4: 14 weeks*\n",
    "* DTP (diphtheria, tetanus, pertussis):\n",
    "    * Dose 1: 6 weeks\n",
    "    * Dose 2: 10 weeks\n",
    "    * Dose 3: 14 weeks*"
   ]
  },
  {
   "cell_type": "markdown",
   "metadata": {},
   "source": []
  },
  {
   "cell_type": "code",
   "execution_count": null,
   "metadata": {},
   "outputs": [],
   "source": [
    "%reload_kedro"
   ]
  },
  {
   "cell_type": "code",
   "execution_count": null,
   "metadata": {},
   "outputs": [],
   "source": [
    "dff = catalog.load(\"feature_table\")"
   ]
  }
 ],
 "metadata": {
  "kernelspec": {
   "display_name": "ImmunizationDropouts",
   "language": "python",
   "name": "python3"
  },
  "language_info": {
   "codemirror_mode": {
    "name": "ipython",
    "version": 3
   },
   "file_extension": ".py",
   "mimetype": "text/x-python",
   "name": "python",
   "nbconvert_exporter": "python",
   "pygments_lexer": "ipython3",
   "version": "3.8.2"
  }
 },
 "nbformat": 4,
 "nbformat_minor": 4
}
