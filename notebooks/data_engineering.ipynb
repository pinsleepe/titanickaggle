{
 "cells": [
  {
   "cell_type": "code",
   "execution_count": 1,
   "metadata": {
    "scrolled": false
   },
   "outputs": [
    {
     "name": "stdout",
     "output_type": "stream",
     "text": [
      "2020-06-07 22:47:49,534 - root - INFO - ** Kedro project Immunization Drop-outs\n",
      "2020-06-07 22:47:49,535 - root - INFO - Defined global variable `context` and `catalog`\n"
     ]
    }
   ],
   "source": [
    "%reload_kedro"
   ]
  },
  {
   "cell_type": "markdown",
   "metadata": {},
   "source": [
    "## Patients"
   ]
  },
  {
   "cell_type": "markdown",
   "metadata": {},
   "source": [
    "Data Dictionary: patients_db.csv\n",
    "* pat_id: The unique ID of the child.\n",
    "* dob: The date of birth of the child.\n",
    "* gender: The gender of the child.\n",
    "* fac_id: The unique ID of the health facility the child received the vaccination.\n",
    "* lat: The latitude of the facility.\n",
    "* long: The longitude of the facility.\n",
    "* district: The geographical district that the facility is located in."
   ]
  },
  {
   "cell_type": "code",
   "execution_count": 2,
   "metadata": {
    "scrolled": false
   },
   "outputs": [
    {
     "name": "stdout",
     "output_type": "stream",
     "text": [
      "2020-06-07 22:47:49,540 - kedro.io.data_catalog - INFO - Loading data from `patients` (CSVDataSet)...\n"
     ]
    },
    {
     "data": {
      "text/html": [
       "<div>\n",
       "<style scoped>\n",
       "    .dataframe tbody tr th:only-of-type {\n",
       "        vertical-align: middle;\n",
       "    }\n",
       "\n",
       "    .dataframe tbody tr th {\n",
       "        vertical-align: top;\n",
       "    }\n",
       "\n",
       "    .dataframe thead th {\n",
       "        text-align: right;\n",
       "    }\n",
       "</style>\n",
       "<table border=\"1\" class=\"dataframe\">\n",
       "  <thead>\n",
       "    <tr style=\"text-align: right;\">\n",
       "      <th></th>\n",
       "      <th>Unnamed: 0</th>\n",
       "      <th>pat_id</th>\n",
       "      <th>fac_id</th>\n",
       "      <th>dob</th>\n",
       "      <th>gender</th>\n",
       "      <th>long</th>\n",
       "      <th>lat</th>\n",
       "      <th>region</th>\n",
       "      <th>district</th>\n",
       "    </tr>\n",
       "  </thead>\n",
       "  <tbody>\n",
       "    <tr>\n",
       "      <th>0</th>\n",
       "      <td>0</td>\n",
       "      <td>1</td>\n",
       "      <td>51.0</td>\n",
       "      <td>2019-01-22</td>\n",
       "      <td>f</td>\n",
       "      <td>NaN</td>\n",
       "      <td>NaN</td>\n",
       "      <td>Ghanzi</td>\n",
       "      <td>Ghanzi</td>\n",
       "    </tr>\n",
       "    <tr>\n",
       "      <th>1</th>\n",
       "      <td>1</td>\n",
       "      <td>2</td>\n",
       "      <td>89.0</td>\n",
       "      <td>2019-11-12</td>\n",
       "      <td>f</td>\n",
       "      <td>24.877556</td>\n",
       "      <td>-18.370709</td>\n",
       "      <td>Chobe</td>\n",
       "      <td>Chobe</td>\n",
       "    </tr>\n",
       "    <tr>\n",
       "      <th>2</th>\n",
       "      <td>2</td>\n",
       "      <td>3</td>\n",
       "      <td>161.0</td>\n",
       "      <td>2019-11-03</td>\n",
       "      <td>m</td>\n",
       "      <td>25.249672</td>\n",
       "      <td>-20.490189</td>\n",
       "      <td>Central</td>\n",
       "      <td>Tutume</td>\n",
       "    </tr>\n",
       "    <tr>\n",
       "      <th>3</th>\n",
       "      <td>3</td>\n",
       "      <td>4</td>\n",
       "      <td>168.0</td>\n",
       "      <td>2019-04-17</td>\n",
       "      <td>f</td>\n",
       "      <td>25.579269</td>\n",
       "      <td>-21.412151</td>\n",
       "      <td>Central</td>\n",
       "      <td>Lethlakane</td>\n",
       "    </tr>\n",
       "    <tr>\n",
       "      <th>4</th>\n",
       "      <td>4</td>\n",
       "      <td>5</td>\n",
       "      <td>183.0</td>\n",
       "      <td>2018-12-08</td>\n",
       "      <td>m</td>\n",
       "      <td>28.487746</td>\n",
       "      <td>-22.571451</td>\n",
       "      <td>Central</td>\n",
       "      <td>Tuli</td>\n",
       "    </tr>\n",
       "  </tbody>\n",
       "</table>\n",
       "</div>"
      ],
      "text/plain": [
       "   Unnamed: 0  pat_id  fac_id         dob gender       long        lat  \\\n",
       "0           0       1    51.0  2019-01-22      f        NaN        NaN   \n",
       "1           1       2    89.0  2019-11-12      f  24.877556 -18.370709   \n",
       "2           2       3   161.0  2019-11-03      m  25.249672 -20.490189   \n",
       "3           3       4   168.0  2019-04-17      f  25.579269 -21.412151   \n",
       "4           4       5   183.0  2018-12-08      m  28.487746 -22.571451   \n",
       "\n",
       "    region    district  \n",
       "0   Ghanzi      Ghanzi  \n",
       "1    Chobe       Chobe  \n",
       "2  Central      Tutume  \n",
       "3  Central  Lethlakane  \n",
       "4  Central        Tuli  "
      ]
     },
     "execution_count": 2,
     "metadata": {},
     "output_type": "execute_result"
    }
   ],
   "source": [
    "dfp = catalog.load(\"patients\")\n",
    "dfp.head()"
   ]
  },
  {
   "cell_type": "code",
   "execution_count": 3,
   "metadata": {
    "tags": [
     "node"
    ]
   },
   "outputs": [],
   "source": [
    "def remove_unnamed_column_patients(df):\n",
    "    \"\"\"\n",
    "    Remove columns leftover by df to csv conversion.\n",
    "    \"\"\"\n",
    "    return df.drop('Unnamed: 0', 1)"
   ]
  },
  {
   "cell_type": "code",
   "execution_count": 4,
   "metadata": {
    "scrolled": false
   },
   "outputs": [
    {
     "data": {
      "text/plain": [
       "(50000, 8)"
      ]
     },
     "execution_count": 4,
     "metadata": {},
     "output_type": "execute_result"
    }
   ],
   "source": [
    "dfp = remove_unnamed_column_patients(dfp)\n",
    "dfp.shape"
   ]
  },
  {
   "cell_type": "code",
   "execution_count": 5,
   "metadata": {},
   "outputs": [
    {
     "name": "stdout",
     "output_type": "stream",
     "text": [
      "<class 'pandas.core.frame.DataFrame'>\n",
      "RangeIndex: 50000 entries, 0 to 49999\n",
      "Data columns (total 8 columns):\n",
      " #   Column    Non-Null Count  Dtype  \n",
      "---  ------    --------------  -----  \n",
      " 0   pat_id    50000 non-null  int64  \n",
      " 1   fac_id    47496 non-null  float64\n",
      " 2   dob       50000 non-null  object \n",
      " 3   gender    48998 non-null  object \n",
      " 4   long      47464 non-null  float64\n",
      " 5   lat       47464 non-null  float64\n",
      " 6   region    48366 non-null  object \n",
      " 7   district  48366 non-null  object \n",
      "dtypes: float64(3), int64(1), object(4)\n",
      "memory usage: 3.1+ MB\n"
     ]
    }
   ],
   "source": [
    "dfp.info()"
   ]
  },
  {
   "cell_type": "code",
   "execution_count": 6,
   "metadata": {
    "scrolled": true
   },
   "outputs": [
    {
     "data": {
      "text/plain": [
       "pat_id        int64\n",
       "fac_id      float64\n",
       "dob          object\n",
       "gender       object\n",
       "long        float64\n",
       "lat         float64\n",
       "region       object\n",
       "district     object\n",
       "dtype: object"
      ]
     },
     "execution_count": 6,
     "metadata": {},
     "output_type": "execute_result"
    }
   ],
   "source": [
    "dfp.dtypes"
   ]
  },
  {
   "cell_type": "code",
   "execution_count": 7,
   "metadata": {},
   "outputs": [],
   "source": [
    "def convert_to_date(df):\n",
    "    df['dob'] = pd.to_datetime(df['dob'], format='%Y-%m-%d')\n",
    "    return df"
   ]
  },
  {
   "cell_type": "code",
   "execution_count": 8,
   "metadata": {},
   "outputs": [],
   "source": [
    "import pandas as pd"
   ]
  },
  {
   "cell_type": "code",
   "execution_count": 9,
   "metadata": {
    "scrolled": true
   },
   "outputs": [
    {
     "data": {
      "text/plain": [
       "<matplotlib.axes._subplots.AxesSubplot at 0x7eff19dc3850>"
      ]
     },
     "execution_count": 9,
     "metadata": {},
     "output_type": "execute_result"
    },
    {
     "data": {
      "image/png": "[encoded data removed]",
      "text/plain": [
       "<Figure size 432x288 with 1 Axes>"
      ]
     },
     "metadata": {
      "needs_background": "light"
     },
     "output_type": "display_data"
    }
   ],
   "source": [
    "dfp = convert_to_date(dfp)\n",
    "dfp.groupby(dfp[\"dob\"].dt.year).count().plot(kind=\"bar\")"
   ]
  },
  {
   "cell_type": "markdown",
   "metadata": {},
   "source": [
    "Dates look ok."
   ]
  },
  {
   "cell_type": "markdown",
   "metadata": {},
   "source": [
    "Check if we have duplicate records."
   ]
  },
  {
   "cell_type": "code",
   "execution_count": 10,
   "metadata": {},
   "outputs": [
    {
     "data": {
      "text/plain": [
       "True"
      ]
     },
     "execution_count": 10,
     "metadata": {},
     "output_type": "execute_result"
    }
   ],
   "source": [
    "len(dfp.pat_id.unique()) == dfp.shape[0]"
   ]
  },
  {
   "cell_type": "markdown",
   "metadata": {},
   "source": [
    "Check for NaNs."
   ]
  },
  {
   "cell_type": "code",
   "execution_count": 11,
   "metadata": {},
   "outputs": [
    {
     "data": {
      "text/plain": [
       "True"
      ]
     },
     "execution_count": 11,
     "metadata": {},
     "output_type": "execute_result"
    }
   ],
   "source": [
    "dfp.isnull().values.any()"
   ]
  },
  {
   "cell_type": "code",
   "execution_count": 12,
   "metadata": {},
   "outputs": [
    {
     "data": {
      "text/plain": [
       "11846"
      ]
     },
     "execution_count": 12,
     "metadata": {},
     "output_type": "execute_result"
    }
   ],
   "source": [
    "dfp.isnull().sum().sum()"
   ]
  },
  {
   "cell_type": "code",
   "execution_count": 13,
   "metadata": {},
   "outputs": [
    {
     "data": {
      "text/plain": [
       "0"
      ]
     },
     "execution_count": 13,
     "metadata": {},
     "output_type": "execute_result"
    }
   ],
   "source": [
    "dfp['dob'].isnull().sum()"
   ]
  },
  {
   "cell_type": "code",
   "execution_count": 14,
   "metadata": {},
   "outputs": [
    {
     "data": {
      "text/plain": [
       "1002"
      ]
     },
     "execution_count": 14,
     "metadata": {},
     "output_type": "execute_result"
    }
   ],
   "source": [
    "dfp['gender'].isnull().sum()"
   ]
  },
  {
   "cell_type": "markdown",
   "metadata": {},
   "source": [
    "I will exclude records without gender from the dataset as I will be using it as a predictor."
   ]
  },
  {
   "cell_type": "code",
   "execution_count": 15,
   "metadata": {},
   "outputs": [
    {
     "data": {
      "text/plain": [
       "2504"
      ]
     },
     "execution_count": 15,
     "metadata": {},
     "output_type": "execute_result"
    }
   ],
   "source": [
    "dfp['fac_id'].isnull().sum()"
   ]
  },
  {
   "cell_type": "markdown",
   "metadata": {},
   "source": [
    "Facility ID column has a lot of nulls. Lets see if we can fill the missing information using other records."
   ]
  },
  {
   "cell_type": "markdown",
   "metadata": {},
   "source": [
    "How many facilities we have in the database?"
   ]
  },
  {
   "cell_type": "code",
   "execution_count": 16,
   "metadata": {
    "scrolled": true
   },
   "outputs": [
    {
     "data": {
      "text/plain": [
       "346"
      ]
     },
     "execution_count": 16,
     "metadata": {},
     "output_type": "execute_result"
    }
   ],
   "source": [
    "len(dfp['fac_id'].unique())"
   ]
  },
  {
   "cell_type": "code",
   "execution_count": 17,
   "metadata": {},
   "outputs": [
    {
     "data": {
      "text/plain": [
       "16"
      ]
     },
     "execution_count": 17,
     "metadata": {},
     "output_type": "execute_result"
    }
   ],
   "source": [
    "len(dfp['region'].unique())"
   ]
  },
  {
   "cell_type": "code",
   "execution_count": 18,
   "metadata": {},
   "outputs": [],
   "source": [
    "# list of facilities\n",
    "fac_list = dfp['fac_id'].unique()\n",
    "# region list\n",
    "region_list = dfp['region'].unique()"
   ]
  },
  {
   "cell_type": "code",
   "execution_count": 19,
   "metadata": {
    "scrolled": true
   },
   "outputs": [
    {
     "data": {
      "text/html": [
       "<div>\n",
       "<style scoped>\n",
       "    .dataframe tbody tr th:only-of-type {\n",
       "        vertical-align: middle;\n",
       "    }\n",
       "\n",
       "    .dataframe tbody tr th {\n",
       "        vertical-align: top;\n",
       "    }\n",
       "\n",
       "    .dataframe thead th {\n",
       "        text-align: right;\n",
       "    }\n",
       "</style>\n",
       "<table border=\"1\" class=\"dataframe\">\n",
       "  <thead>\n",
       "    <tr style=\"text-align: right;\">\n",
       "      <th></th>\n",
       "      <th>fac_id</th>\n",
       "      <th>long</th>\n",
       "      <th>lat</th>\n",
       "      <th>region</th>\n",
       "      <th>district</th>\n",
       "    </tr>\n",
       "  </thead>\n",
       "  <tbody>\n",
       "    <tr>\n",
       "      <th>0</th>\n",
       "      <td>51.0</td>\n",
       "      <td>NaN</td>\n",
       "      <td>NaN</td>\n",
       "      <td>Ghanzi</td>\n",
       "      <td>Ghanzi</td>\n",
       "    </tr>\n",
       "    <tr>\n",
       "      <th>1</th>\n",
       "      <td>89.0</td>\n",
       "      <td>24.877556</td>\n",
       "      <td>-18.370709</td>\n",
       "      <td>Chobe</td>\n",
       "      <td>Chobe</td>\n",
       "    </tr>\n",
       "    <tr>\n",
       "      <th>2</th>\n",
       "      <td>161.0</td>\n",
       "      <td>25.249672</td>\n",
       "      <td>-20.490189</td>\n",
       "      <td>Central</td>\n",
       "      <td>Tutume</td>\n",
       "    </tr>\n",
       "    <tr>\n",
       "      <th>3</th>\n",
       "      <td>168.0</td>\n",
       "      <td>25.579269</td>\n",
       "      <td>-21.412151</td>\n",
       "      <td>Central</td>\n",
       "      <td>Lethlakane</td>\n",
       "    </tr>\n",
       "    <tr>\n",
       "      <th>4</th>\n",
       "      <td>183.0</td>\n",
       "      <td>28.487746</td>\n",
       "      <td>-22.571451</td>\n",
       "      <td>Central</td>\n",
       "      <td>Tuli</td>\n",
       "    </tr>\n",
       "  </tbody>\n",
       "</table>\n",
       "</div>"
      ],
      "text/plain": [
       "   fac_id       long        lat   region    district\n",
       "0    51.0        NaN        NaN   Ghanzi      Ghanzi\n",
       "1    89.0  24.877556 -18.370709    Chobe       Chobe\n",
       "2   161.0  25.249672 -20.490189  Central      Tutume\n",
       "3   168.0  25.579269 -21.412151  Central  Lethlakane\n",
       "4   183.0  28.487746 -22.571451  Central        Tuli"
      ]
     },
     "execution_count": 19,
     "metadata": {},
     "output_type": "execute_result"
    }
   ],
   "source": [
    "dffac = dfp.drop(['pat_id', 'dob', 'gender'], 1)\n",
    "# dftemp = dftemp[dftemp.region == region_list[0]]\n",
    "dffac.head()"
   ]
  },
  {
   "cell_type": "code",
   "execution_count": 20,
   "metadata": {},
   "outputs": [
    {
     "data": {
      "text/plain": [
       "(50000, 5)"
      ]
     },
     "execution_count": 20,
     "metadata": {},
     "output_type": "execute_result"
    }
   ],
   "source": [
    "dffac.shape"
   ]
  },
  {
   "cell_type": "code",
   "execution_count": 21,
   "metadata": {
    "scrolled": false
   },
   "outputs": [
    {
     "data": {
      "text/html": [
       "<div>\n",
       "<style scoped>\n",
       "    .dataframe tbody tr th:only-of-type {\n",
       "        vertical-align: middle;\n",
       "    }\n",
       "\n",
       "    .dataframe tbody tr th {\n",
       "        vertical-align: top;\n",
       "    }\n",
       "\n",
       "    .dataframe thead th {\n",
       "        text-align: right;\n",
       "    }\n",
       "</style>\n",
       "<table border=\"1\" class=\"dataframe\">\n",
       "  <thead>\n",
       "    <tr style=\"text-align: right;\">\n",
       "      <th></th>\n",
       "      <th>fac_id</th>\n",
       "      <th>long</th>\n",
       "      <th>lat</th>\n",
       "      <th>region</th>\n",
       "      <th>district</th>\n",
       "    </tr>\n",
       "  </thead>\n",
       "  <tbody>\n",
       "    <tr>\n",
       "      <th>36903</th>\n",
       "      <td>1.0</td>\n",
       "      <td>NaN</td>\n",
       "      <td>NaN</td>\n",
       "      <td>North-West</td>\n",
       "      <td>Ngamiland East</td>\n",
       "    </tr>\n",
       "    <tr>\n",
       "      <th>37931</th>\n",
       "      <td>1.0</td>\n",
       "      <td>23.375396</td>\n",
       "      <td>-20.057104</td>\n",
       "      <td>North-West</td>\n",
       "      <td>Ngamiland East</td>\n",
       "    </tr>\n",
       "    <tr>\n",
       "      <th>15376</th>\n",
       "      <td>1.0</td>\n",
       "      <td>23.375396</td>\n",
       "      <td>-20.057104</td>\n",
       "      <td>North-West</td>\n",
       "      <td>Ngamiland East</td>\n",
       "    </tr>\n",
       "    <tr>\n",
       "      <th>16009</th>\n",
       "      <td>1.0</td>\n",
       "      <td>23.375396</td>\n",
       "      <td>-20.057104</td>\n",
       "      <td>North-West</td>\n",
       "      <td>Ngamiland East</td>\n",
       "    </tr>\n",
       "    <tr>\n",
       "      <th>14136</th>\n",
       "      <td>1.0</td>\n",
       "      <td>23.375396</td>\n",
       "      <td>-20.057104</td>\n",
       "      <td>North-West</td>\n",
       "      <td>Ngamiland East</td>\n",
       "    </tr>\n",
       "  </tbody>\n",
       "</table>\n",
       "</div>"
      ],
      "text/plain": [
       "       fac_id       long        lat      region        district\n",
       "36903     1.0        NaN        NaN  North-West  Ngamiland East\n",
       "37931     1.0  23.375396 -20.057104  North-West  Ngamiland East\n",
       "15376     1.0  23.375396 -20.057104  North-West  Ngamiland East\n",
       "16009     1.0  23.375396 -20.057104  North-West  Ngamiland East\n",
       "14136     1.0  23.375396 -20.057104  North-West  Ngamiland East"
      ]
     },
     "execution_count": 21,
     "metadata": {},
     "output_type": "execute_result"
    }
   ],
   "source": [
    "# sort fac_id - ascending order\n",
    "dffac.sort_values(by=['fac_id'], inplace=True)\n",
    "dffac.head()"
   ]
  },
  {
   "cell_type": "code",
   "execution_count": 22,
   "metadata": {},
   "outputs": [],
   "source": [
    "# drop columns with Nan\n",
    "dffac = dffac.dropna()"
   ]
  },
  {
   "cell_type": "code",
   "execution_count": 23,
   "metadata": {},
   "outputs": [
    {
     "data": {
      "text/plain": [
       "(43621, 5)"
      ]
     },
     "execution_count": 23,
     "metadata": {},
     "output_type": "execute_result"
    }
   ],
   "source": [
    "dffac.shape"
   ]
  },
  {
   "cell_type": "code",
   "execution_count": 24,
   "metadata": {},
   "outputs": [
    {
     "data": {
      "text/html": [
       "<div>\n",
       "<style scoped>\n",
       "    .dataframe tbody tr th:only-of-type {\n",
       "        vertical-align: middle;\n",
       "    }\n",
       "\n",
       "    .dataframe tbody tr th {\n",
       "        vertical-align: top;\n",
       "    }\n",
       "\n",
       "    .dataframe thead th {\n",
       "        text-align: right;\n",
       "    }\n",
       "</style>\n",
       "<table border=\"1\" class=\"dataframe\">\n",
       "  <thead>\n",
       "    <tr style=\"text-align: right;\">\n",
       "      <th></th>\n",
       "      <th>fac_id</th>\n",
       "      <th>long</th>\n",
       "      <th>lat</th>\n",
       "      <th>region</th>\n",
       "      <th>district</th>\n",
       "    </tr>\n",
       "  </thead>\n",
       "  <tbody>\n",
       "    <tr>\n",
       "      <th>37931</th>\n",
       "      <td>1.0</td>\n",
       "      <td>23.375396</td>\n",
       "      <td>-20.057104</td>\n",
       "      <td>North-West</td>\n",
       "      <td>Ngamiland East</td>\n",
       "    </tr>\n",
       "    <tr>\n",
       "      <th>15376</th>\n",
       "      <td>1.0</td>\n",
       "      <td>23.375396</td>\n",
       "      <td>-20.057104</td>\n",
       "      <td>North-West</td>\n",
       "      <td>Ngamiland East</td>\n",
       "    </tr>\n",
       "    <tr>\n",
       "      <th>16009</th>\n",
       "      <td>1.0</td>\n",
       "      <td>23.375396</td>\n",
       "      <td>-20.057104</td>\n",
       "      <td>North-West</td>\n",
       "      <td>Ngamiland East</td>\n",
       "    </tr>\n",
       "    <tr>\n",
       "      <th>14136</th>\n",
       "      <td>1.0</td>\n",
       "      <td>23.375396</td>\n",
       "      <td>-20.057104</td>\n",
       "      <td>North-West</td>\n",
       "      <td>Ngamiland East</td>\n",
       "    </tr>\n",
       "    <tr>\n",
       "      <th>8363</th>\n",
       "      <td>1.0</td>\n",
       "      <td>23.375396</td>\n",
       "      <td>-20.057104</td>\n",
       "      <td>North-West</td>\n",
       "      <td>Ngamiland East</td>\n",
       "    </tr>\n",
       "  </tbody>\n",
       "</table>\n",
       "</div>"
      ],
      "text/plain": [
       "       fac_id       long        lat      region        district\n",
       "37931     1.0  23.375396 -20.057104  North-West  Ngamiland East\n",
       "15376     1.0  23.375396 -20.057104  North-West  Ngamiland East\n",
       "16009     1.0  23.375396 -20.057104  North-West  Ngamiland East\n",
       "14136     1.0  23.375396 -20.057104  North-West  Ngamiland East\n",
       "8363      1.0  23.375396 -20.057104  North-West  Ngamiland East"
      ]
     },
     "execution_count": 24,
     "metadata": {},
     "output_type": "execute_result"
    }
   ],
   "source": [
    "dffac.head()"
   ]
  },
  {
   "cell_type": "code",
   "execution_count": 25,
   "metadata": {},
   "outputs": [
    {
     "data": {
      "text/html": [
       "<div>\n",
       "<style scoped>\n",
       "    .dataframe tbody tr th:only-of-type {\n",
       "        vertical-align: middle;\n",
       "    }\n",
       "\n",
       "    .dataframe tbody tr th {\n",
       "        vertical-align: top;\n",
       "    }\n",
       "\n",
       "    .dataframe thead th {\n",
       "        text-align: right;\n",
       "    }\n",
       "</style>\n",
       "<table border=\"1\" class=\"dataframe\">\n",
       "  <thead>\n",
       "    <tr style=\"text-align: right;\">\n",
       "      <th></th>\n",
       "      <th>fac_id</th>\n",
       "      <th>long</th>\n",
       "      <th>lat</th>\n",
       "      <th>region</th>\n",
       "      <th>district</th>\n",
       "    </tr>\n",
       "  </thead>\n",
       "  <tbody>\n",
       "    <tr>\n",
       "      <th>37931</th>\n",
       "      <td>1.0</td>\n",
       "      <td>23.375396</td>\n",
       "      <td>-20.057104</td>\n",
       "      <td>North-West</td>\n",
       "      <td>Ngamiland East</td>\n",
       "    </tr>\n",
       "    <tr>\n",
       "      <th>21602</th>\n",
       "      <td>2.0</td>\n",
       "      <td>23.410550</td>\n",
       "      <td>-21.465240</td>\n",
       "      <td>Ghanzi</td>\n",
       "      <td>Ghanzi</td>\n",
       "    </tr>\n",
       "    <tr>\n",
       "      <th>45608</th>\n",
       "      <td>3.0</td>\n",
       "      <td>23.214604</td>\n",
       "      <td>-21.792671</td>\n",
       "      <td>Ghanzi</td>\n",
       "      <td>Ghanzi</td>\n",
       "    </tr>\n",
       "    <tr>\n",
       "      <th>12983</th>\n",
       "      <td>4.0</td>\n",
       "      <td>23.688444</td>\n",
       "      <td>-21.332783</td>\n",
       "      <td>Ghanzi</td>\n",
       "      <td>Ghanzi</td>\n",
       "    </tr>\n",
       "    <tr>\n",
       "      <th>21287</th>\n",
       "      <td>5.0</td>\n",
       "      <td>21.817487</td>\n",
       "      <td>-21.634937</td>\n",
       "      <td>Ghanzi</td>\n",
       "      <td>Ghanzi</td>\n",
       "    </tr>\n",
       "  </tbody>\n",
       "</table>\n",
       "</div>"
      ],
      "text/plain": [
       "       fac_id       long        lat      region        district\n",
       "37931     1.0  23.375396 -20.057104  North-West  Ngamiland East\n",
       "21602     2.0  23.410550 -21.465240      Ghanzi          Ghanzi\n",
       "45608     3.0  23.214604 -21.792671      Ghanzi          Ghanzi\n",
       "12983     4.0  23.688444 -21.332783      Ghanzi          Ghanzi\n",
       "21287     5.0  21.817487 -21.634937      Ghanzi          Ghanzi"
      ]
     },
     "execution_count": 25,
     "metadata": {},
     "output_type": "execute_result"
    }
   ],
   "source": [
    "# dropping ALL duplicte values \n",
    "dffac.drop_duplicates(subset =\"fac_id\", \n",
    "                       keep = 'first', \n",
    "                       inplace = True) \n",
    "dffac.head()"
   ]
  },
  {
   "cell_type": "code",
   "execution_count": 26,
   "metadata": {},
   "outputs": [
    {
     "data": {
      "text/plain": [
       "0"
      ]
     },
     "execution_count": 26,
     "metadata": {},
     "output_type": "execute_result"
    }
   ],
   "source": [
    "dffac['fac_id'].isnull().sum()"
   ]
  },
  {
   "cell_type": "code",
   "execution_count": 27,
   "metadata": {},
   "outputs": [
    {
     "data": {
      "text/plain": [
       "False"
      ]
     },
     "execution_count": 27,
     "metadata": {},
     "output_type": "execute_result"
    }
   ],
   "source": [
    "len(dfp['fac_id'].unique()) == dffac['fac_id'].shape[0]"
   ]
  },
  {
   "cell_type": "code",
   "execution_count": 28,
   "metadata": {},
   "outputs": [
    {
     "data": {
      "text/plain": [
       "334"
      ]
     },
     "execution_count": 28,
     "metadata": {},
     "output_type": "execute_result"
    }
   ],
   "source": [
    "dffac['fac_id'].shape[0]"
   ]
  },
  {
   "cell_type": "markdown",
   "metadata": {},
   "source": [
    "Still it looks like we lost 12 facilities out of 336 in the process. I will ignore this for now. If I had more time I would investigate further and look at a map to get district and region. Remove offending facilities at a later stage..."
   ]
  },
  {
   "cell_type": "markdown",
   "metadata": {},
   "source": [
    "No more NaNs for `fac-id`. We can use this new dataframe to fill missing information so we don't loose records for our prediction."
   ]
  },
  {
   "cell_type": "code",
   "execution_count": 29,
   "metadata": {
    "tags": [
     "node"
    ]
   },
   "outputs": [],
   "source": [
    "def create_facility_df(df):\n",
    "    \"\"\"\n",
    "    remove patient info \n",
    "    sort fac_id in ascending order \n",
    "    drop columns with Nan (assumption: there is at least one fac_id\n",
    "    row with the whole information)\n",
    "    dropping ALL duplicte values but the first\n",
    "    reset index\n",
    "    sanity check: fac_id != NaN\n",
    "    \"\"\"\n",
    "    df = df.drop(['pat_id', 'dob', 'gender'], 1)\n",
    "    df.sort_values(by=['fac_id'], inplace=True)\n",
    "    df = df.dropna()\n",
    "    df.drop_duplicates(subset =\"fac_id\", \n",
    "                       keep = 'first', \n",
    "                       inplace = True)\n",
    "    df = df.reset_index(drop=True)\n",
    "    assert df.fac_id.isnull().sum() == 0\n",
    "    return df"
   ]
  },
  {
   "cell_type": "code",
   "execution_count": 30,
   "metadata": {
    "scrolled": false
   },
   "outputs": [
    {
     "data": {
      "text/html": [
       "<div>\n",
       "<style scoped>\n",
       "    .dataframe tbody tr th:only-of-type {\n",
       "        vertical-align: middle;\n",
       "    }\n",
       "\n",
       "    .dataframe tbody tr th {\n",
       "        vertical-align: top;\n",
       "    }\n",
       "\n",
       "    .dataframe thead th {\n",
       "        text-align: right;\n",
       "    }\n",
       "</style>\n",
       "<table border=\"1\" class=\"dataframe\">\n",
       "  <thead>\n",
       "    <tr style=\"text-align: right;\">\n",
       "      <th></th>\n",
       "      <th>fac_id</th>\n",
       "      <th>long</th>\n",
       "      <th>lat</th>\n",
       "      <th>region</th>\n",
       "      <th>district</th>\n",
       "    </tr>\n",
       "  </thead>\n",
       "  <tbody>\n",
       "    <tr>\n",
       "      <th>0</th>\n",
       "      <td>1.0</td>\n",
       "      <td>23.375396</td>\n",
       "      <td>-20.057104</td>\n",
       "      <td>North-West</td>\n",
       "      <td>Ngamiland East</td>\n",
       "    </tr>\n",
       "    <tr>\n",
       "      <th>1</th>\n",
       "      <td>2.0</td>\n",
       "      <td>23.410550</td>\n",
       "      <td>-21.465240</td>\n",
       "      <td>Ghanzi</td>\n",
       "      <td>Ghanzi</td>\n",
       "    </tr>\n",
       "    <tr>\n",
       "      <th>2</th>\n",
       "      <td>3.0</td>\n",
       "      <td>23.214604</td>\n",
       "      <td>-21.792671</td>\n",
       "      <td>Ghanzi</td>\n",
       "      <td>Ghanzi</td>\n",
       "    </tr>\n",
       "    <tr>\n",
       "      <th>3</th>\n",
       "      <td>4.0</td>\n",
       "      <td>23.688444</td>\n",
       "      <td>-21.332783</td>\n",
       "      <td>Ghanzi</td>\n",
       "      <td>Ghanzi</td>\n",
       "    </tr>\n",
       "    <tr>\n",
       "      <th>4</th>\n",
       "      <td>5.0</td>\n",
       "      <td>21.817487</td>\n",
       "      <td>-21.634937</td>\n",
       "      <td>Ghanzi</td>\n",
       "      <td>Ghanzi</td>\n",
       "    </tr>\n",
       "  </tbody>\n",
       "</table>\n",
       "</div>"
      ],
      "text/plain": [
       "   fac_id       long        lat      region        district\n",
       "0     1.0  23.375396 -20.057104  North-West  Ngamiland East\n",
       "1     2.0  23.410550 -21.465240      Ghanzi          Ghanzi\n",
       "2     3.0  23.214604 -21.792671      Ghanzi          Ghanzi\n",
       "3     4.0  23.688444 -21.332783      Ghanzi          Ghanzi\n",
       "4     5.0  21.817487 -21.634937      Ghanzi          Ghanzi"
      ]
     },
     "execution_count": 30,
     "metadata": {},
     "output_type": "execute_result"
    }
   ],
   "source": [
    "dffac = create_facility_df(dfp)\n",
    "dffac.head()"
   ]
  },
  {
   "cell_type": "code",
   "execution_count": 31,
   "metadata": {},
   "outputs": [
    {
     "data": {
      "text/plain": [
       "0"
      ]
     },
     "execution_count": 31,
     "metadata": {},
     "output_type": "execute_result"
    }
   ],
   "source": [
    "dffac.isnull().sum().sum()"
   ]
  },
  {
   "cell_type": "code",
   "execution_count": 32,
   "metadata": {},
   "outputs": [
    {
     "data": {
      "text/plain": [
       "True"
      ]
     },
     "execution_count": 32,
     "metadata": {},
     "output_type": "execute_result"
    }
   ],
   "source": [
    "len(dffac['long'].unique()) == dffac['fac_id'].shape[0]"
   ]
  },
  {
   "cell_type": "code",
   "execution_count": 33,
   "metadata": {},
   "outputs": [
    {
     "data": {
      "text/plain": [
       "True"
      ]
     },
     "execution_count": 33,
     "metadata": {},
     "output_type": "execute_result"
    }
   ],
   "source": [
    "len(dffac['lat'].unique()) == dffac['fac_id'].shape[0]"
   ]
  },
  {
   "cell_type": "code",
   "execution_count": 34,
   "metadata": {},
   "outputs": [
    {
     "data": {
      "text/plain": [
       "<matplotlib.axes._subplots.AxesSubplot at 0x7eff193b6880>"
      ]
     },
     "execution_count": 34,
     "metadata": {},
     "output_type": "execute_result"
    },
    {
     "data": {
      "image/png": "[encoded data removed]",
      "text/plain": [
       "<Figure size 432x288 with 1 Axes>"
      ]
     },
     "metadata": {
      "needs_background": "light"
     },
     "output_type": "display_data"
    }
   ],
   "source": [
    "dffac['region'].value_counts().plot(kind='bar')"
   ]
  },
  {
   "cell_type": "markdown",
   "metadata": {},
   "source": [
    "Lets go back to our patients now. I will first remove records with NaN gender."
   ]
  },
  {
   "cell_type": "code",
   "execution_count": 35,
   "metadata": {
    "tags": [
     "node"
    ]
   },
   "outputs": [],
   "source": [
    "def drop_null_gender(df):\n",
    "    \"\"\"\n",
    "    Drop all records without gender field and reset index.\n",
    "    \"\"\"\n",
    "    df.dropna(subset=['gender'], inplace=True)\n",
    "    df = df.reset_index(drop=True)\n",
    "    return df"
   ]
  },
  {
   "cell_type": "code",
   "execution_count": 36,
   "metadata": {},
   "outputs": [
    {
     "data": {
      "text/plain": [
       "48998"
      ]
     },
     "execution_count": 36,
     "metadata": {},
     "output_type": "execute_result"
    }
   ],
   "source": [
    "dfp = drop_null_gender(dfp)\n",
    "dfp.shape[0]"
   ]
  },
  {
   "cell_type": "code",
   "execution_count": 37,
   "metadata": {},
   "outputs": [
    {
     "data": {
      "text/plain": [
       "10586"
      ]
     },
     "execution_count": 37,
     "metadata": {},
     "output_type": "execute_result"
    }
   ],
   "source": [
    "dfp.isnull().sum().sum()"
   ]
  },
  {
   "cell_type": "code",
   "execution_count": 38,
   "metadata": {
    "scrolled": false
   },
   "outputs": [
    {
     "data": {
      "text/plain": [
       "2438"
      ]
     },
     "execution_count": 38,
     "metadata": {},
     "output_type": "execute_result"
    }
   ],
   "source": [
    "dfp['fac_id'].isnull().sum()"
   ]
  },
  {
   "cell_type": "markdown",
   "metadata": {},
   "source": [
    "Now we will find indexes of those row and match them with our fac_id dataframe."
   ]
  },
  {
   "cell_type": "code",
   "execution_count": 39,
   "metadata": {},
   "outputs": [],
   "source": [
    "import pandas as pd\n",
    "import numpy as np"
   ]
  },
  {
   "cell_type": "code",
   "execution_count": 40,
   "metadata": {},
   "outputs": [
    {
     "data": {
      "text/plain": [
       "2438"
      ]
     },
     "execution_count": 40,
     "metadata": {},
     "output_type": "execute_result"
    }
   ],
   "source": [
    "index = dfp['fac_id'].index[dfp['fac_id'].apply(np.isnan)]\n",
    "len(index)"
   ]
  },
  {
   "cell_type": "markdown",
   "metadata": {},
   "source": [
    "Since lat and long all unique for all facilities we can use one to match out fac_id."
   ]
  },
  {
   "cell_type": "code",
   "execution_count": 41,
   "metadata": {
    "tags": [
     "node"
    ]
   },
   "outputs": [],
   "source": [
    "def fill_missing_facid(df0, df1):\n",
    "    \"\"\"\n",
    "    Since lat and long all unique for all facilities we \n",
    "    can use one to match out fac_id. Find index of NaN fac_id and \n",
    "    search facility ID dataframe for match on longitude.\n",
    "    If there is no long, as we will assume no geo location\n",
    "    was captured, remove records.\n",
    "    df0: patient dataframe\n",
    "    df1: facilities dataframe\n",
    "    \"\"\"\n",
    "    ind = df0['fac_id'].index[df0['fac_id'].apply(np.isnan)]\n",
    "    empty_idx = []\n",
    "    for i in ind:\n",
    "        long0 = df0.loc[i].long\n",
    "        try:\n",
    "            facid = df1[df1['long'] == long0]['fac_id'].values[0]\n",
    "            df0.loc[i, 'fac_id'] = facid\n",
    "        except IndexError:\n",
    "            empty_idx.append(i)\n",
    "    if empty_idx:\n",
    "        df0 = df0.drop(df0.index[empty_idx])\n",
    "        df0 = df0.reset_index(drop=True)\n",
    "    return df0"
   ]
  },
  {
   "cell_type": "code",
   "execution_count": 42,
   "metadata": {},
   "outputs": [
    {
     "data": {
      "text/plain": [
       "True"
      ]
     },
     "execution_count": 42,
     "metadata": {},
     "output_type": "execute_result"
    }
   ],
   "source": [
    "dfp = fill_missing_facid(dfp, dffac)\n",
    "dfp['fac_id'].isnull().sum() == 0"
   ]
  },
  {
   "cell_type": "code",
   "execution_count": 43,
   "metadata": {},
   "outputs": [
    {
     "data": {
      "text/plain": [
       "48801"
      ]
     },
     "execution_count": 43,
     "metadata": {},
     "output_type": "execute_result"
    }
   ],
   "source": [
    "dfp.shape[0]"
   ]
  },
  {
   "cell_type": "code",
   "execution_count": 44,
   "metadata": {},
   "outputs": [
    {
     "data": {
      "text/plain": [
       "7740"
      ]
     },
     "execution_count": 44,
     "metadata": {},
     "output_type": "execute_result"
    }
   ],
   "source": [
    "dfp.isnull().sum().sum()"
   ]
  },
  {
   "cell_type": "markdown",
   "metadata": {},
   "source": [
    "Now we can remove offending facilities from earlier."
   ]
  },
  {
   "cell_type": "code",
   "execution_count": 45,
   "metadata": {
    "tags": [
     "node"
    ]
   },
   "outputs": [],
   "source": [
    "def remove_facilities(df0, df1):\n",
    "    \"\"\"\n",
    "    Remove facilities from patient dataframe that are not present in \n",
    "    facilities dataframe\n",
    "    df0: patient dataframe\n",
    "    df1: facilities dataframe\n",
    "    \"\"\"\n",
    "    bad_facid = list(set(list(df0['fac_id'].unique())) - set(list(df1['fac_id'])))\n",
    "    idx = [df0[df0['fac_id'] == i].index.tolist() for i in bad_facid]\n",
    "    bad_idx = [item for sublist in idx for item in sublist]\n",
    "    \n",
    "    df0.drop(df0.index[bad_idx], inplace=True)\n",
    "    df0 = df0.reset_index(drop=True)\n",
    "    return df0"
   ]
  },
  {
   "cell_type": "code",
   "execution_count": 46,
   "metadata": {},
   "outputs": [
    {
     "data": {
      "text/plain": [
       "47282"
      ]
     },
     "execution_count": 46,
     "metadata": {},
     "output_type": "execute_result"
    }
   ],
   "source": [
    "dfp = remove_facilities(dfp, dffac)\n",
    "dfp.shape[0]"
   ]
  },
  {
   "cell_type": "code",
   "execution_count": 47,
   "metadata": {},
   "outputs": [
    {
     "data": {
      "text/plain": [
       "4538"
      ]
     },
     "execution_count": 47,
     "metadata": {},
     "output_type": "execute_result"
    }
   ],
   "source": [
    "dfp.isnull().sum().sum()"
   ]
  },
  {
   "cell_type": "markdown",
   "metadata": {},
   "source": [
    "Still NaNs... Now we can use facility ID to fill missing data!"
   ]
  },
  {
   "cell_type": "code",
   "execution_count": 48,
   "metadata": {
    "tags": [
     "node"
    ]
   },
   "outputs": [],
   "source": [
    "def fill_missing_values(df0, df1):\n",
    "    \"\"\"\n",
    "    Find index of NaN values. For each index read fac_id. \n",
    "    Using that fac_id read long, lat, region and district \n",
    "    from facilities dataframe and write them to patient dataframe.\n",
    "    df0: patient dataframe\n",
    "    df1: facilities dataframe\n",
    "    \"\"\"\n",
    "    ind = df0[df0.isnull().any(axis=1)].index\n",
    "    for i in ind:\n",
    "        facid = df0.loc[i].fac_id\n",
    "        df0.loc[i, 'long'] = df1[df1.fac_id == facid].long.values[0]\n",
    "        df0.loc[i, 'lat']  = df1[df1.fac_id == facid].lat.values[0]\n",
    "        df0.loc[i, 'region']  = df1[df1.fac_id == facid].region.values[0]\n",
    "        df0.loc[i, 'district'] = df1[df1.fac_id == facid].district.values[0]\n",
    "    return df0"
   ]
  },
  {
   "cell_type": "code",
   "execution_count": 49,
   "metadata": {
    "scrolled": true
   },
   "outputs": [
    {
     "data": {
      "text/plain": [
       "True"
      ]
     },
     "execution_count": 49,
     "metadata": {},
     "output_type": "execute_result"
    }
   ],
   "source": [
    "dfp = fill_missing_values(dfp, dffac)\n",
    "dfp.isnull().sum().sum() == 0"
   ]
  },
  {
   "cell_type": "code",
   "execution_count": 50,
   "metadata": {},
   "outputs": [
    {
     "data": {
      "text/plain": [
       "2718"
      ]
     },
     "execution_count": 50,
     "metadata": {},
     "output_type": "execute_result"
    }
   ],
   "source": [
    "50000 - dfp.shape[0]"
   ]
  },
  {
   "cell_type": "markdown",
   "metadata": {},
   "source": [
    "Now wrap it all in one function to create `preprocessed_patients` dataset."
   ]
  },
  {
   "cell_type": "markdown",
   "metadata": {},
   "source": [
    "## Immunization"
   ]
  },
  {
   "cell_type": "markdown",
   "metadata": {},
   "source": [
    "Data Dictionary: immunizations_db.csv\n",
    "* pat_id: The ID of the child.\n",
    "* vaccine: The abbreviated name of the vaccine the child attempted to receive.\n",
    "* im_date: Immunization date, i.e. the date the child received the vaccine.\n",
    "* successful: Whether or not the vaccination was successful.\n",
    "* reason_unsuccesful: If the vaccination was unsuccessful, the selected reason why."
   ]
  },
  {
   "cell_type": "markdown",
   "metadata": {},
   "source": [
    "* OPV (oral polio vaccine):\n",
    "    * Dose 1: birth\n",
    "    * Dose 2: 6 weeks\n",
    "    * Dose 3: 10 weeks,\n",
    "    * Dose 4: 14 weeks*\n",
    "* DTP (diphtheria, tetanus, pertussis)​:\n",
    "    * Dose 1: 6 weeks\n",
    "    * Dose 2: 10 weeks\n",
    "    * Dose 3: 14 weeks*"
   ]
  },
  {
   "cell_type": "code",
   "execution_count": 51,
   "metadata": {
    "scrolled": true
   },
   "outputs": [
    {
     "name": "stdout",
     "output_type": "stream",
     "text": [
      "2020-06-07 22:48:03,334 - kedro.io.data_catalog - INFO - Loading data from `immunization` (CSVDataSet)...\n"
     ]
    },
    {
     "data": {
      "text/html": [
       "<div>\n",
       "<style scoped>\n",
       "    .dataframe tbody tr th:only-of-type {\n",
       "        vertical-align: middle;\n",
       "    }\n",
       "\n",
       "    .dataframe tbody tr th {\n",
       "        vertical-align: top;\n",
       "    }\n",
       "\n",
       "    .dataframe thead th {\n",
       "        text-align: right;\n",
       "    }\n",
       "</style>\n",
       "<table border=\"1\" class=\"dataframe\">\n",
       "  <thead>\n",
       "    <tr style=\"text-align: right;\">\n",
       "      <th></th>\n",
       "      <th>Unnamed: 0</th>\n",
       "      <th>pat_id</th>\n",
       "      <th>vaccine</th>\n",
       "      <th>im_date</th>\n",
       "      <th>successful</th>\n",
       "      <th>reason_unsuccesful</th>\n",
       "    </tr>\n",
       "  </thead>\n",
       "  <tbody>\n",
       "    <tr>\n",
       "      <th>0</th>\n",
       "      <td>0</td>\n",
       "      <td>1</td>\n",
       "      <td>OPV</td>\n",
       "      <td>2019-01-31</td>\n",
       "      <td>True</td>\n",
       "      <td>NaN</td>\n",
       "    </tr>\n",
       "    <tr>\n",
       "      <th>1</th>\n",
       "      <td>1</td>\n",
       "      <td>2</td>\n",
       "      <td>OPV</td>\n",
       "      <td>2019-11-12</td>\n",
       "      <td>True</td>\n",
       "      <td>NaN</td>\n",
       "    </tr>\n",
       "    <tr>\n",
       "      <th>2</th>\n",
       "      <td>2</td>\n",
       "      <td>3</td>\n",
       "      <td>OPV</td>\n",
       "      <td>2019-11-03</td>\n",
       "      <td>True</td>\n",
       "      <td>NaN</td>\n",
       "    </tr>\n",
       "    <tr>\n",
       "      <th>3</th>\n",
       "      <td>3</td>\n",
       "      <td>4</td>\n",
       "      <td>OPV</td>\n",
       "      <td>2019-06-01</td>\n",
       "      <td>True</td>\n",
       "      <td>NaN</td>\n",
       "    </tr>\n",
       "    <tr>\n",
       "      <th>4</th>\n",
       "      <td>4</td>\n",
       "      <td>5</td>\n",
       "      <td>OPV</td>\n",
       "      <td>2018-12-24</td>\n",
       "      <td>True</td>\n",
       "      <td>NaN</td>\n",
       "    </tr>\n",
       "  </tbody>\n",
       "</table>\n",
       "</div>"
      ],
      "text/plain": [
       "   Unnamed: 0  pat_id vaccine     im_date  successful reason_unsuccesful\n",
       "0           0       1     OPV  2019-01-31        True                NaN\n",
       "1           1       2     OPV  2019-11-12        True                NaN\n",
       "2           2       3     OPV  2019-11-03        True                NaN\n",
       "3           3       4     OPV  2019-06-01        True                NaN\n",
       "4           4       5     OPV  2018-12-24        True                NaN"
      ]
     },
     "execution_count": 51,
     "metadata": {},
     "output_type": "execute_result"
    }
   ],
   "source": [
    "dfi = catalog.load(\"immunization\")\n",
    "dfi.head()"
   ]
  },
  {
   "cell_type": "code",
   "execution_count": 52,
   "metadata": {
    "scrolled": true
   },
   "outputs": [
    {
     "data": {
      "text/plain": [
       "273865"
      ]
     },
     "execution_count": 52,
     "metadata": {},
     "output_type": "execute_result"
    }
   ],
   "source": [
    "dfi.isnull().sum().sum()"
   ]
  },
  {
   "cell_type": "code",
   "execution_count": 53,
   "metadata": {
    "tags": [
     "node"
    ]
   },
   "outputs": [],
   "source": [
    "def remove_unnamed_column_immunization(df):\n",
    "    \"\"\"\n",
    "    Remove columns leftover by df to csv conversion.\n",
    "    \"\"\"\n",
    "    return df.drop('Unnamed: 0', 1)"
   ]
  },
  {
   "cell_type": "code",
   "execution_count": 54,
   "metadata": {},
   "outputs": [
    {
     "data": {
      "text/plain": [
       "(276764, 5)"
      ]
     },
     "execution_count": 54,
     "metadata": {},
     "output_type": "execute_result"
    }
   ],
   "source": [
    "dfi = remove_unnamed_column_immunization(dfi)\n",
    "dfi.shape"
   ]
  },
  {
   "cell_type": "code",
   "execution_count": 55,
   "metadata": {
    "scrolled": true
   },
   "outputs": [
    {
     "name": "stdout",
     "output_type": "stream",
     "text": [
      "<class 'pandas.core.frame.DataFrame'>\n",
      "RangeIndex: 276764 entries, 0 to 276763\n",
      "Data columns (total 5 columns):\n",
      " #   Column              Non-Null Count   Dtype \n",
      "---  ------              --------------   ----- \n",
      " 0   pat_id              276764 non-null  int64 \n",
      " 1   vaccine             276764 non-null  object\n",
      " 2   im_date             276764 non-null  object\n",
      " 3   successful          276764 non-null  bool  \n",
      " 4   reason_unsuccesful  2899 non-null    object\n",
      "dtypes: bool(1), int64(1), object(3)\n",
      "memory usage: 8.7+ MB\n"
     ]
    }
   ],
   "source": [
    "dfi.info()"
   ]
  },
  {
   "cell_type": "code",
   "execution_count": 56,
   "metadata": {},
   "outputs": [
    {
     "data": {
      "text/plain": [
       "pat_id                 int64\n",
       "vaccine               object\n",
       "im_date               object\n",
       "successful              bool\n",
       "reason_unsuccesful    object\n",
       "dtype: object"
      ]
     },
     "execution_count": 56,
     "metadata": {},
     "output_type": "execute_result"
    }
   ],
   "source": [
    "dfi.dtypes"
   ]
  },
  {
   "cell_type": "markdown",
   "metadata": {},
   "source": [
    "From the `reason_unsuccesful` it looks like the child was not vaccinated, but was present at the clinic so the healtcare proffesional could make the call to vaccinate or not. Two out of four reasons are about supply chain, one is medical reason and one, `StartedLate`, is related to the child \"behaviour\". Since the question is about children who are at `high_risk` of defaulting from a routine immunization program and require health worker intervention I am tempted to remove all `unsuccessful` records... If I had more time I would investigate those further to see how those affect the completion of immunization. At the moment they just skeewing my dataset."
   ]
  },
  {
   "cell_type": "code",
   "execution_count": 57,
   "metadata": {
    "scrolled": false
   },
   "outputs": [
    {
     "data": {
      "text/plain": [
       "<matplotlib.axes._subplots.AxesSubplot at 0x7eff192e73d0>"
      ]
     },
     "execution_count": 57,
     "metadata": {},
     "output_type": "execute_result"
    },
    {
     "data": {
      "image/png": "[encoded data removed]",
      "text/plain": [
       "<Figure size 432x288 with 1 Axes>"
      ]
     },
     "metadata": {
      "needs_background": "light"
     },
     "output_type": "display_data"
    }
   ],
   "source": [
    "dfi['successful'].value_counts().plot(kind='bar')"
   ]
  },
  {
   "cell_type": "code",
   "execution_count": 58,
   "metadata": {
    "scrolled": false
   },
   "outputs": [
    {
     "data": {
      "text/plain": [
       "True     273865\n",
       "False      2899\n",
       "Name: successful, dtype: int64"
      ]
     },
     "execution_count": 58,
     "metadata": {},
     "output_type": "execute_result"
    }
   ],
   "source": [
    "dfi['successful'].value_counts()"
   ]
  },
  {
   "cell_type": "code",
   "execution_count": 59,
   "metadata": {},
   "outputs": [
    {
     "data": {
      "text/plain": [
       "<matplotlib.axes._subplots.AxesSubplot at 0x7eff18c57fd0>"
      ]
     },
     "execution_count": 59,
     "metadata": {},
     "output_type": "execute_result"
    },
    {
     "data": {
      "image/png": "[encoded data removed]",
      "text/plain": [
       "<Figure size 432x288 with 1 Axes>"
      ]
     },
     "metadata": {
      "needs_background": "light"
     },
     "output_type": "display_data"
    }
   ],
   "source": [
    "dfi['vaccine'].value_counts().plot(kind='bar')"
   ]
  },
  {
   "cell_type": "code",
   "execution_count": 60,
   "metadata": {
    "scrolled": true
   },
   "outputs": [
    {
     "data": {
      "text/plain": [
       "<matplotlib.axes._subplots.AxesSubplot at 0x7eff18bac610>"
      ]
     },
     "execution_count": 60,
     "metadata": {},
     "output_type": "execute_result"
    },
    {
     "data": {
      "image/png": "[encoded data removed]",
      "text/plain": [
       "<Figure size 432x288 with 1 Axes>"
      ]
     },
     "metadata": {
      "needs_background": "light"
     },
     "output_type": "display_data"
    }
   ],
   "source": [
    "dfi['reason_unsuccesful'].value_counts().plot(kind='bar')"
   ]
  },
  {
   "cell_type": "code",
   "execution_count": 61,
   "metadata": {},
   "outputs": [],
   "source": [
    "def convert_to_date(df):\n",
    "    df['im_date'] = pd.to_datetime(df['im_date'], format='%Y-%m-%d')\n",
    "    return df"
   ]
  },
  {
   "cell_type": "code",
   "execution_count": 62,
   "metadata": {
    "tags": [
     "node"
    ]
   },
   "outputs": [],
   "source": [
    "def keep_successful(df):\n",
    "    \"\"\"\n",
    "    Remove unsuccessful immunizations.\n",
    "    \"\"\"\n",
    "    df = df[df.successful == True]\n",
    "    return df"
   ]
  },
  {
   "cell_type": "code",
   "execution_count": 63,
   "metadata": {},
   "outputs": [
    {
     "data": {
      "text/plain": [
       "(273865, 5)"
      ]
     },
     "execution_count": 63,
     "metadata": {},
     "output_type": "execute_result"
    }
   ],
   "source": [
    "dfi = keep_successful(dfi)\n",
    "dfi.shape"
   ]
  },
  {
   "cell_type": "markdown",
   "metadata": {},
   "source": [
    "Remove `successful` and `reason_unsuccesful`"
   ]
  },
  {
   "cell_type": "code",
   "execution_count": 64,
   "metadata": {
    "tags": [
     "node"
    ]
   },
   "outputs": [],
   "source": [
    "def remove_unsuccesful_columns(df):\n",
    "    \"\"\"\n",
    "    Remove unsuccessful reason and succesful columns\n",
    "    \"\"\"\n",
    "    return df.drop(['successful', 'reason_unsuccesful'], 1)"
   ]
  },
  {
   "cell_type": "code",
   "execution_count": 65,
   "metadata": {},
   "outputs": [],
   "source": [
    "dfi = remove_unsuccesful_columns(dfi)"
   ]
  },
  {
   "cell_type": "code",
   "execution_count": 66,
   "metadata": {},
   "outputs": [
    {
     "name": "stdout",
     "output_type": "stream",
     "text": [
      "<class 'pandas.core.frame.DataFrame'>\n",
      "Int64Index: 273865 entries, 0 to 276763\n",
      "Data columns (total 3 columns):\n",
      " #   Column   Non-Null Count   Dtype         \n",
      "---  ------   --------------   -----         \n",
      " 0   pat_id   273865 non-null  int64         \n",
      " 1   vaccine  273865 non-null  object        \n",
      " 2   im_date  273865 non-null  datetime64[ns]\n",
      "dtypes: datetime64[ns](1), int64(1), object(1)\n",
      "memory usage: 8.4+ MB\n"
     ]
    }
   ],
   "source": [
    "dfi = convert_to_date(dfi)\n",
    "dfi.info()"
   ]
  },
  {
   "cell_type": "code",
   "execution_count": 67,
   "metadata": {
    "scrolled": true
   },
   "outputs": [
    {
     "data": {
      "text/plain": [
       "<matplotlib.axes._subplots.AxesSubplot at 0x7eff18b96070>"
      ]
     },
     "execution_count": 67,
     "metadata": {},
     "output_type": "execute_result"
    },
    {
     "data": {
      "image/png": "[encoded data removed]",
      "text/plain": [
       "<Figure size 432x288 with 1 Axes>"
      ]
     },
     "metadata": {
      "needs_background": "light"
     },
     "output_type": "display_data"
    }
   ],
   "source": [
    "dfi.groupby(dfi[\"im_date\"].dt.year).count().plot(kind=\"bar\")"
   ]
  },
  {
   "cell_type": "markdown",
   "metadata": {},
   "source": [
    "Dates look ok."
   ]
  },
  {
   "cell_type": "code",
   "execution_count": 68,
   "metadata": {},
   "outputs": [
    {
     "data": {
      "text/plain": [
       "0"
      ]
     },
     "execution_count": 68,
     "metadata": {},
     "output_type": "execute_result"
    }
   ],
   "source": [
    "dfi['vaccine'].isnull().sum()"
   ]
  },
  {
   "cell_type": "markdown",
   "metadata": {},
   "source": [
    "Check if there are any extra patients in `immunization` dataframe."
   ]
  },
  {
   "cell_type": "code",
   "execution_count": 69,
   "metadata": {},
   "outputs": [
    {
     "data": {
      "text/plain": [
       "47282"
      ]
     },
     "execution_count": 69,
     "metadata": {},
     "output_type": "execute_result"
    }
   ],
   "source": [
    "pat_list = list(dfp['pat_id'].unique())\n",
    "len(pat_list)"
   ]
  },
  {
   "cell_type": "code",
   "execution_count": 70,
   "metadata": {},
   "outputs": [
    {
     "data": {
      "text/plain": [
       "True"
      ]
     },
     "execution_count": 70,
     "metadata": {},
     "output_type": "execute_result"
    }
   ],
   "source": [
    "40 in pat_list"
   ]
  },
  {
   "cell_type": "code",
   "execution_count": 71,
   "metadata": {},
   "outputs": [
    {
     "data": {
      "text/plain": [
       "258964"
      ]
     },
     "execution_count": 71,
     "metadata": {},
     "output_type": "execute_result"
    }
   ],
   "source": [
    "idx = [dfi[dfi['pat_id'] == i].index.tolist() for i in pat_list]\n",
    "good_idx = [item for sublist in idx for item in sublist]\n",
    "len(good_idx)"
   ]
  },
  {
   "cell_type": "code",
   "execution_count": 72,
   "metadata": {},
   "outputs": [
    {
     "data": {
      "text/html": [
       "<div>\n",
       "<style scoped>\n",
       "    .dataframe tbody tr th:only-of-type {\n",
       "        vertical-align: middle;\n",
       "    }\n",
       "\n",
       "    .dataframe tbody tr th {\n",
       "        vertical-align: top;\n",
       "    }\n",
       "\n",
       "    .dataframe thead th {\n",
       "        text-align: right;\n",
       "    }\n",
       "</style>\n",
       "<table border=\"1\" class=\"dataframe\">\n",
       "  <thead>\n",
       "    <tr style=\"text-align: right;\">\n",
       "      <th></th>\n",
       "      <th>pat_id</th>\n",
       "      <th>vaccine</th>\n",
       "      <th>im_date</th>\n",
       "    </tr>\n",
       "  </thead>\n",
       "  <tbody>\n",
       "  </tbody>\n",
       "</table>\n",
       "</div>"
      ],
      "text/plain": [
       "Empty DataFrame\n",
       "Columns: [pat_id, vaccine, im_date]\n",
       "Index: []"
      ]
     },
     "execution_count": 72,
     "metadata": {},
     "output_type": "execute_result"
    }
   ],
   "source": [
    "dfi[dfi['pat_id'] == 40]"
   ]
  },
  {
   "cell_type": "code",
   "execution_count": 73,
   "metadata": {},
   "outputs": [
    {
     "data": {
      "text/plain": [
       "(258964, 3)"
      ]
     },
     "execution_count": 73,
     "metadata": {},
     "output_type": "execute_result"
    }
   ],
   "source": [
    "dfi = dfi.loc[good_idx]\n",
    "dfi.shape"
   ]
  },
  {
   "cell_type": "code",
   "execution_count": 74,
   "metadata": {
    "scrolled": true
   },
   "outputs": [
    {
     "data": {
      "text/html": [
       "<div>\n",
       "<style scoped>\n",
       "    .dataframe tbody tr th:only-of-type {\n",
       "        vertical-align: middle;\n",
       "    }\n",
       "\n",
       "    .dataframe tbody tr th {\n",
       "        vertical-align: top;\n",
       "    }\n",
       "\n",
       "    .dataframe thead th {\n",
       "        text-align: right;\n",
       "    }\n",
       "</style>\n",
       "<table border=\"1\" class=\"dataframe\">\n",
       "  <thead>\n",
       "    <tr style=\"text-align: right;\">\n",
       "      <th></th>\n",
       "      <th>pat_id</th>\n",
       "      <th>vaccine</th>\n",
       "      <th>im_date</th>\n",
       "    </tr>\n",
       "  </thead>\n",
       "  <tbody>\n",
       "    <tr>\n",
       "      <th>0</th>\n",
       "      <td>1</td>\n",
       "      <td>OPV</td>\n",
       "      <td>2019-01-31</td>\n",
       "    </tr>\n",
       "    <tr>\n",
       "      <th>45075</th>\n",
       "      <td>1</td>\n",
       "      <td>OPV</td>\n",
       "      <td>2019-04-03</td>\n",
       "    </tr>\n",
       "    <tr>\n",
       "      <th>86788</th>\n",
       "      <td>1</td>\n",
       "      <td>OPV</td>\n",
       "      <td>2019-05-25</td>\n",
       "    </tr>\n",
       "    <tr>\n",
       "      <th>125363</th>\n",
       "      <td>1</td>\n",
       "      <td>OPV</td>\n",
       "      <td>2019-07-06</td>\n",
       "    </tr>\n",
       "    <tr>\n",
       "      <th>160792</th>\n",
       "      <td>1</td>\n",
       "      <td>DTP</td>\n",
       "      <td>2019-04-03</td>\n",
       "    </tr>\n",
       "  </tbody>\n",
       "</table>\n",
       "</div>"
      ],
      "text/plain": [
       "        pat_id vaccine    im_date\n",
       "0            1     OPV 2019-01-31\n",
       "45075        1     OPV 2019-04-03\n",
       "86788        1     OPV 2019-05-25\n",
       "125363       1     OPV 2019-07-06\n",
       "160792       1     DTP 2019-04-03"
      ]
     },
     "execution_count": 74,
     "metadata": {},
     "output_type": "execute_result"
    }
   ],
   "source": [
    "dfi.head()"
   ]
  },
  {
   "cell_type": "code",
   "execution_count": 75,
   "metadata": {},
   "outputs": [
    {
     "data": {
      "text/plain": [
       "False"
      ]
     },
     "execution_count": 75,
     "metadata": {},
     "output_type": "execute_result"
    }
   ],
   "source": [
    "set(list(dfp.pat_id.unique())) == set(list(dfi.pat_id.unique()))"
   ]
  },
  {
   "cell_type": "code",
   "execution_count": 76,
   "metadata": {
    "tags": [
     "node"
    ]
   },
   "outputs": [],
   "source": [
    "def remove_records(patient, immunization):\n",
    "    \"\"\"\n",
    "    Remove records from immunization dataframe that correspond to unknown patients.\n",
    "    df0: patient dataframe\n",
    "    df1: immunization dataframe\n",
    "    \"\"\"    \n",
    "    pat_list = list(patient['pat_id'].unique())\n",
    "    idx = [immunization[immunization['pat_id'] == i].index.tolist() for i in pat_list]\n",
    "    good_idx = [item for sublist in idx for item in sublist]\n",
    "    \n",
    "#     immunization = immunization.loc[good_idx]\n",
    "    immunization = immunization[immunization.index.isin(good_idx)]\n",
    "    immunization = immunization.reset_index(drop=True)\n",
    "    return immunization"
   ]
  },
  {
   "cell_type": "code",
   "execution_count": 77,
   "metadata": {
    "tags": [
     "node"
    ]
   },
   "outputs": [],
   "source": [
    "def preprocess_patients(df0, df1):\n",
    "    \"\"\"\n",
    "    Bring all functions to create pre-processed df\n",
    "    \"\"\"\n",
    "    df = remove_unnamed_column_patients(df0)\n",
    "    df = drop_null_gender(df)\n",
    "    df = fill_missing_facid(df, df1)\n",
    "    df = remove_facilities(df, df1)\n",
    "    df = fill_missing_values(df, df1)\n",
    "    return df"
   ]
  },
  {
   "cell_type": "code",
   "execution_count": 78,
   "metadata": {},
   "outputs": [
    {
     "name": "stdout",
     "output_type": "stream",
     "text": [
      "2020-06-07 22:48:36,500 - kedro.io.data_catalog - INFO - Loading data from `patients` (CSVDataSet)...\n"
     ]
    }
   ],
   "source": [
    "dfp = catalog.load(\"patients\")\n",
    "dfp = preprocess_patients(dfp, dffac)"
   ]
  },
  {
   "cell_type": "code",
   "execution_count": 79,
   "metadata": {},
   "outputs": [
    {
     "data": {
      "text/plain": [
       "0"
      ]
     },
     "execution_count": 79,
     "metadata": {},
     "output_type": "execute_result"
    }
   ],
   "source": [
    "dfp.isnull().sum().sum()"
   ]
  },
  {
   "cell_type": "code",
   "execution_count": 80,
   "metadata": {},
   "outputs": [
    {
     "data": {
      "text/plain": [
       "2718"
      ]
     },
     "execution_count": 80,
     "metadata": {},
     "output_type": "execute_result"
    }
   ],
   "source": [
    "50000 - dfp.shape[0]"
   ]
  },
  {
   "cell_type": "markdown",
   "metadata": {},
   "source": [
    "I removed about 6% of the data. This number could be improved with further investigation into geo location of the facilities."
   ]
  },
  {
   "cell_type": "code",
   "execution_count": 81,
   "metadata": {
    "tags": [
     "node"
    ]
   },
   "outputs": [],
   "source": [
    "def preprocess_immunization(immunization, preprocessed_patients):\n",
    "    \"\"\"\n",
    "    Bring all functions to create pre-processed df\n",
    "    \"\"\"\n",
    "    df = remove_unnamed_column_immunization(immunization)\n",
    "    df = keep_successful(df)\n",
    "    df = remove_unsuccesful_columns(df)\n",
    "    return remove_records(preprocessed_patients, df)"
   ]
  },
  {
   "cell_type": "code",
   "execution_count": 82,
   "metadata": {},
   "outputs": [
    {
     "name": "stdout",
     "output_type": "stream",
     "text": [
      "2020-06-07 22:48:47,431 - kedro.io.data_catalog - INFO - Loading data from `immunization` (CSVDataSet)...\n"
     ]
    }
   ],
   "source": [
    "dfi = catalog.load(\"immunization\")\n",
    "dfi = preprocess_immunization(dfi, dfp)"
   ]
  },
  {
   "cell_type": "code",
   "execution_count": 83,
   "metadata": {},
   "outputs": [
    {
     "data": {
      "text/plain": [
       "0"
      ]
     },
     "execution_count": 83,
     "metadata": {},
     "output_type": "execute_result"
    }
   ],
   "source": [
    "dfi.isnull().sum().sum()"
   ]
  },
  {
   "cell_type": "code",
   "execution_count": 84,
   "metadata": {},
   "outputs": [
    {
     "data": {
      "text/plain": [
       "0"
      ]
     },
     "execution_count": 84,
     "metadata": {},
     "output_type": "execute_result"
    }
   ],
   "source": [
    "dfp.isnull().sum().sum()"
   ]
  },
  {
   "cell_type": "markdown",
   "metadata": {},
   "source": [
    "This file doesn't need that much preprocessing attention. Lets move on to features."
   ]
  }
 ],
 "metadata": {
  "celltoolbar": "Tags",
  "kernelspec": {
   "display_name": "ImmunizationDropouts",
   "language": "python",
   "name": "python3"
  },
  "language_info": {
   "codemirror_mode": {
    "name": "ipython",
    "version": 3
   },
   "file_extension": ".py",
   "mimetype": "text/x-python",
   "name": "python",
   "nbconvert_exporter": "python",
   "pygments_lexer": "ipython3",
   "version": "3.8.2"
  }
 },
 "nbformat": 4,
 "nbformat_minor": 4
}
