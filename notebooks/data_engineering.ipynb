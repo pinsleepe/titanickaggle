{
 "cells": [
  {
   "cell_type": "code",
   "execution_count": 690,
   "metadata": {
    "scrolled": false
   },
   "outputs": [
    {
     "name": "stdout",
     "output_type": "stream",
     "text": [
      "2020-06-06 20:34:57,586 - root - INFO - ** Kedro project Immunization Drop-outs\n",
      "2020-06-06 20:34:57,587 - root - INFO - Defined global variable `context` and `catalog`\n"
     ]
    }
   ],
   "source": [
    "%reload_kedro"
   ]
  },
  {
   "cell_type": "markdown",
   "metadata": {},
   "source": [
    "## Patients"
   ]
  },
  {
   "cell_type": "markdown",
   "metadata": {},
   "source": [
    "Data Dictionary: patients_db.csv\n",
    "* pat_id: The unique ID of the child.\n",
    "* dob: The date of birth of the child.\n",
    "* gender: The gender of the child.\n",
    "* fac_id: The unique ID of the health facility the child received the vaccination.\n",
    "* lat: The latitude of the facility.\n",
    "* long: The longitude of the facility.\n",
    "* district: The geographical district that the facility is located in."
   ]
  },
  {
   "cell_type": "code",
   "execution_count": 691,
   "metadata": {
    "scrolled": false
   },
   "outputs": [
    {
     "name": "stdout",
     "output_type": "stream",
     "text": [
      "2020-06-06 20:34:57,593 - kedro.io.data_catalog - INFO - Loading data from `patients` (CSVDataSet)...\n"
     ]
    },
    {
     "data": {
      "text/html": [
       "<div>\n",
       "<style scoped>\n",
       "    .dataframe tbody tr th:only-of-type {\n",
       "        vertical-align: middle;\n",
       "    }\n",
       "\n",
       "    .dataframe tbody tr th {\n",
       "        vertical-align: top;\n",
       "    }\n",
       "\n",
       "    .dataframe thead th {\n",
       "        text-align: right;\n",
       "    }\n",
       "</style>\n",
       "<table border=\"1\" class=\"dataframe\">\n",
       "  <thead>\n",
       "    <tr style=\"text-align: right;\">\n",
       "      <th></th>\n",
       "      <th>Unnamed: 0</th>\n",
       "      <th>pat_id</th>\n",
       "      <th>fac_id</th>\n",
       "      <th>dob</th>\n",
       "      <th>gender</th>\n",
       "      <th>long</th>\n",
       "      <th>lat</th>\n",
       "      <th>region</th>\n",
       "      <th>district</th>\n",
       "    </tr>\n",
       "  </thead>\n",
       "  <tbody>\n",
       "    <tr>\n",
       "      <th>0</th>\n",
       "      <td>0</td>\n",
       "      <td>1</td>\n",
       "      <td>51.0</td>\n",
       "      <td>2019-01-22</td>\n",
       "      <td>f</td>\n",
       "      <td>NaN</td>\n",
       "      <td>NaN</td>\n",
       "      <td>Ghanzi</td>\n",
       "      <td>Ghanzi</td>\n",
       "    </tr>\n",
       "    <tr>\n",
       "      <th>1</th>\n",
       "      <td>1</td>\n",
       "      <td>2</td>\n",
       "      <td>89.0</td>\n",
       "      <td>2019-11-12</td>\n",
       "      <td>f</td>\n",
       "      <td>24.877556</td>\n",
       "      <td>-18.370709</td>\n",
       "      <td>Chobe</td>\n",
       "      <td>Chobe</td>\n",
       "    </tr>\n",
       "    <tr>\n",
       "      <th>2</th>\n",
       "      <td>2</td>\n",
       "      <td>3</td>\n",
       "      <td>161.0</td>\n",
       "      <td>2019-11-03</td>\n",
       "      <td>m</td>\n",
       "      <td>25.249672</td>\n",
       "      <td>-20.490189</td>\n",
       "      <td>Central</td>\n",
       "      <td>Tutume</td>\n",
       "    </tr>\n",
       "    <tr>\n",
       "      <th>3</th>\n",
       "      <td>3</td>\n",
       "      <td>4</td>\n",
       "      <td>168.0</td>\n",
       "      <td>2019-04-17</td>\n",
       "      <td>f</td>\n",
       "      <td>25.579269</td>\n",
       "      <td>-21.412151</td>\n",
       "      <td>Central</td>\n",
       "      <td>Lethlakane</td>\n",
       "    </tr>\n",
       "    <tr>\n",
       "      <th>4</th>\n",
       "      <td>4</td>\n",
       "      <td>5</td>\n",
       "      <td>183.0</td>\n",
       "      <td>2018-12-08</td>\n",
       "      <td>m</td>\n",
       "      <td>28.487746</td>\n",
       "      <td>-22.571451</td>\n",
       "      <td>Central</td>\n",
       "      <td>Tuli</td>\n",
       "    </tr>\n",
       "  </tbody>\n",
       "</table>\n",
       "</div>"
      ],
      "text/plain": [
       "   Unnamed: 0  pat_id  fac_id         dob gender       long        lat  \\\n",
       "0           0       1    51.0  2019-01-22      f        NaN        NaN   \n",
       "1           1       2    89.0  2019-11-12      f  24.877556 -18.370709   \n",
       "2           2       3   161.0  2019-11-03      m  25.249672 -20.490189   \n",
       "3           3       4   168.0  2019-04-17      f  25.579269 -21.412151   \n",
       "4           4       5   183.0  2018-12-08      m  28.487746 -22.571451   \n",
       "\n",
       "    region    district  \n",
       "0   Ghanzi      Ghanzi  \n",
       "1    Chobe       Chobe  \n",
       "2  Central      Tutume  \n",
       "3  Central  Lethlakane  \n",
       "4  Central        Tuli  "
      ]
     },
     "execution_count": 691,
     "metadata": {},
     "output_type": "execute_result"
    }
   ],
   "source": [
    "dfp = catalog.load(\"patients\")\n",
    "dfp.head()"
   ]
  },
  {
   "cell_type": "code",
   "execution_count": 692,
   "metadata": {
    "tags": [
     "node"
    ]
   },
   "outputs": [],
   "source": [
    "def remove_unnamed_column(df):\n",
    "    \"\"\"\n",
    "    Remove columns leftover by df to csv conversion.\n",
    "    \"\"\"\n",
    "    return df.drop('Unnamed: 0', 1)"
   ]
  },
  {
   "cell_type": "code",
   "execution_count": 693,
   "metadata": {
    "scrolled": false
   },
   "outputs": [
    {
     "data": {
      "text/plain": [
       "(50000, 8)"
      ]
     },
     "execution_count": 693,
     "metadata": {},
     "output_type": "execute_result"
    }
   ],
   "source": [
    "dfp = remove_unnamed_column(dfp)\n",
    "dfp.shape"
   ]
  },
  {
   "cell_type": "markdown",
   "metadata": {},
   "source": [
    "Check if we have duplicate records."
   ]
  },
  {
   "cell_type": "code",
   "execution_count": 694,
   "metadata": {},
   "outputs": [
    {
     "data": {
      "text/plain": [
       "True"
      ]
     },
     "execution_count": 694,
     "metadata": {},
     "output_type": "execute_result"
    }
   ],
   "source": [
    "len(dfp.pat_id.unique()) == dfp.shape[0]"
   ]
  },
  {
   "cell_type": "markdown",
   "metadata": {},
   "source": [
    "Check for NaNs."
   ]
  },
  {
   "cell_type": "code",
   "execution_count": 695,
   "metadata": {},
   "outputs": [
    {
     "data": {
      "text/plain": [
       "True"
      ]
     },
     "execution_count": 695,
     "metadata": {},
     "output_type": "execute_result"
    }
   ],
   "source": [
    "dfp.isnull().values.any()"
   ]
  },
  {
   "cell_type": "code",
   "execution_count": 696,
   "metadata": {},
   "outputs": [
    {
     "data": {
      "text/plain": [
       "11846"
      ]
     },
     "execution_count": 696,
     "metadata": {},
     "output_type": "execute_result"
    }
   ],
   "source": [
    "dfp.isnull().sum().sum()"
   ]
  },
  {
   "cell_type": "code",
   "execution_count": 697,
   "metadata": {},
   "outputs": [
    {
     "data": {
      "text/plain": [
       "0"
      ]
     },
     "execution_count": 697,
     "metadata": {},
     "output_type": "execute_result"
    }
   ],
   "source": [
    "dfp['dob'].isnull().sum()"
   ]
  },
  {
   "cell_type": "code",
   "execution_count": 698,
   "metadata": {},
   "outputs": [
    {
     "data": {
      "text/plain": [
       "1002"
      ]
     },
     "execution_count": 698,
     "metadata": {},
     "output_type": "execute_result"
    }
   ],
   "source": [
    "dfp['gender'].isnull().sum()"
   ]
  },
  {
   "cell_type": "markdown",
   "metadata": {},
   "source": [
    "I will exclude records without gender from the dataset as I will be using it as a predictor."
   ]
  },
  {
   "cell_type": "code",
   "execution_count": 699,
   "metadata": {},
   "outputs": [
    {
     "data": {
      "text/plain": [
       "2504"
      ]
     },
     "execution_count": 699,
     "metadata": {},
     "output_type": "execute_result"
    }
   ],
   "source": [
    "dfp['fac_id'].isnull().sum()"
   ]
  },
  {
   "cell_type": "markdown",
   "metadata": {},
   "source": [
    "Facility ID column has a lot of nulls. Lets see if we can fill the missing information using other records."
   ]
  },
  {
   "cell_type": "markdown",
   "metadata": {},
   "source": [
    "How many facilities we have in the database?"
   ]
  },
  {
   "cell_type": "code",
   "execution_count": 700,
   "metadata": {
    "scrolled": true
   },
   "outputs": [
    {
     "data": {
      "text/plain": [
       "346"
      ]
     },
     "execution_count": 700,
     "metadata": {},
     "output_type": "execute_result"
    }
   ],
   "source": [
    "len(dfp['fac_id'].unique())"
   ]
  },
  {
   "cell_type": "code",
   "execution_count": 701,
   "metadata": {},
   "outputs": [
    {
     "data": {
      "text/plain": [
       "16"
      ]
     },
     "execution_count": 701,
     "metadata": {},
     "output_type": "execute_result"
    }
   ],
   "source": [
    "len(dfp['region'].unique())"
   ]
  },
  {
   "cell_type": "code",
   "execution_count": 702,
   "metadata": {},
   "outputs": [],
   "source": [
    "# list of facilities\n",
    "fac_list = dfp['fac_id'].unique()\n",
    "# region list\n",
    "region_list = dfp['region'].unique()"
   ]
  },
  {
   "cell_type": "code",
   "execution_count": 703,
   "metadata": {
    "scrolled": true
   },
   "outputs": [
    {
     "data": {
      "text/html": [
       "<div>\n",
       "<style scoped>\n",
       "    .dataframe tbody tr th:only-of-type {\n",
       "        vertical-align: middle;\n",
       "    }\n",
       "\n",
       "    .dataframe tbody tr th {\n",
       "        vertical-align: top;\n",
       "    }\n",
       "\n",
       "    .dataframe thead th {\n",
       "        text-align: right;\n",
       "    }\n",
       "</style>\n",
       "<table border=\"1\" class=\"dataframe\">\n",
       "  <thead>\n",
       "    <tr style=\"text-align: right;\">\n",
       "      <th></th>\n",
       "      <th>fac_id</th>\n",
       "      <th>long</th>\n",
       "      <th>lat</th>\n",
       "      <th>region</th>\n",
       "      <th>district</th>\n",
       "    </tr>\n",
       "  </thead>\n",
       "  <tbody>\n",
       "    <tr>\n",
       "      <th>0</th>\n",
       "      <td>51.0</td>\n",
       "      <td>NaN</td>\n",
       "      <td>NaN</td>\n",
       "      <td>Ghanzi</td>\n",
       "      <td>Ghanzi</td>\n",
       "    </tr>\n",
       "    <tr>\n",
       "      <th>1</th>\n",
       "      <td>89.0</td>\n",
       "      <td>24.877556</td>\n",
       "      <td>-18.370709</td>\n",
       "      <td>Chobe</td>\n",
       "      <td>Chobe</td>\n",
       "    </tr>\n",
       "    <tr>\n",
       "      <th>2</th>\n",
       "      <td>161.0</td>\n",
       "      <td>25.249672</td>\n",
       "      <td>-20.490189</td>\n",
       "      <td>Central</td>\n",
       "      <td>Tutume</td>\n",
       "    </tr>\n",
       "    <tr>\n",
       "      <th>3</th>\n",
       "      <td>168.0</td>\n",
       "      <td>25.579269</td>\n",
       "      <td>-21.412151</td>\n",
       "      <td>Central</td>\n",
       "      <td>Lethlakane</td>\n",
       "    </tr>\n",
       "    <tr>\n",
       "      <th>4</th>\n",
       "      <td>183.0</td>\n",
       "      <td>28.487746</td>\n",
       "      <td>-22.571451</td>\n",
       "      <td>Central</td>\n",
       "      <td>Tuli</td>\n",
       "    </tr>\n",
       "  </tbody>\n",
       "</table>\n",
       "</div>"
      ],
      "text/plain": [
       "   fac_id       long        lat   region    district\n",
       "0    51.0        NaN        NaN   Ghanzi      Ghanzi\n",
       "1    89.0  24.877556 -18.370709    Chobe       Chobe\n",
       "2   161.0  25.249672 -20.490189  Central      Tutume\n",
       "3   168.0  25.579269 -21.412151  Central  Lethlakane\n",
       "4   183.0  28.487746 -22.571451  Central        Tuli"
      ]
     },
     "execution_count": 703,
     "metadata": {},
     "output_type": "execute_result"
    }
   ],
   "source": [
    "dffac = dfp.drop(['pat_id', 'dob', 'gender'], 1)\n",
    "# dftemp = dftemp[dftemp.region == region_list[0]]\n",
    "dffac.head()"
   ]
  },
  {
   "cell_type": "code",
   "execution_count": 704,
   "metadata": {},
   "outputs": [
    {
     "data": {
      "text/plain": [
       "(50000, 5)"
      ]
     },
     "execution_count": 704,
     "metadata": {},
     "output_type": "execute_result"
    }
   ],
   "source": [
    "dffac.shape"
   ]
  },
  {
   "cell_type": "code",
   "execution_count": 705,
   "metadata": {
    "scrolled": false
   },
   "outputs": [
    {
     "data": {
      "text/html": [
       "<div>\n",
       "<style scoped>\n",
       "    .dataframe tbody tr th:only-of-type {\n",
       "        vertical-align: middle;\n",
       "    }\n",
       "\n",
       "    .dataframe tbody tr th {\n",
       "        vertical-align: top;\n",
       "    }\n",
       "\n",
       "    .dataframe thead th {\n",
       "        text-align: right;\n",
       "    }\n",
       "</style>\n",
       "<table border=\"1\" class=\"dataframe\">\n",
       "  <thead>\n",
       "    <tr style=\"text-align: right;\">\n",
       "      <th></th>\n",
       "      <th>fac_id</th>\n",
       "      <th>long</th>\n",
       "      <th>lat</th>\n",
       "      <th>region</th>\n",
       "      <th>district</th>\n",
       "    </tr>\n",
       "  </thead>\n",
       "  <tbody>\n",
       "    <tr>\n",
       "      <th>36903</th>\n",
       "      <td>1.0</td>\n",
       "      <td>NaN</td>\n",
       "      <td>NaN</td>\n",
       "      <td>North-West</td>\n",
       "      <td>Ngamiland East</td>\n",
       "    </tr>\n",
       "    <tr>\n",
       "      <th>37931</th>\n",
       "      <td>1.0</td>\n",
       "      <td>23.375396</td>\n",
       "      <td>-20.057104</td>\n",
       "      <td>North-West</td>\n",
       "      <td>Ngamiland East</td>\n",
       "    </tr>\n",
       "    <tr>\n",
       "      <th>15376</th>\n",
       "      <td>1.0</td>\n",
       "      <td>23.375396</td>\n",
       "      <td>-20.057104</td>\n",
       "      <td>North-West</td>\n",
       "      <td>Ngamiland East</td>\n",
       "    </tr>\n",
       "    <tr>\n",
       "      <th>16009</th>\n",
       "      <td>1.0</td>\n",
       "      <td>23.375396</td>\n",
       "      <td>-20.057104</td>\n",
       "      <td>North-West</td>\n",
       "      <td>Ngamiland East</td>\n",
       "    </tr>\n",
       "    <tr>\n",
       "      <th>14136</th>\n",
       "      <td>1.0</td>\n",
       "      <td>23.375396</td>\n",
       "      <td>-20.057104</td>\n",
       "      <td>North-West</td>\n",
       "      <td>Ngamiland East</td>\n",
       "    </tr>\n",
       "  </tbody>\n",
       "</table>\n",
       "</div>"
      ],
      "text/plain": [
       "       fac_id       long        lat      region        district\n",
       "36903     1.0        NaN        NaN  North-West  Ngamiland East\n",
       "37931     1.0  23.375396 -20.057104  North-West  Ngamiland East\n",
       "15376     1.0  23.375396 -20.057104  North-West  Ngamiland East\n",
       "16009     1.0  23.375396 -20.057104  North-West  Ngamiland East\n",
       "14136     1.0  23.375396 -20.057104  North-West  Ngamiland East"
      ]
     },
     "execution_count": 705,
     "metadata": {},
     "output_type": "execute_result"
    }
   ],
   "source": [
    "# sort fac_id - ascending order\n",
    "dffac.sort_values(by=['fac_id'], inplace=True)\n",
    "dffac.head()"
   ]
  },
  {
   "cell_type": "code",
   "execution_count": 706,
   "metadata": {},
   "outputs": [],
   "source": [
    "# drop columns with Nan\n",
    "dffac = dffac.dropna()"
   ]
  },
  {
   "cell_type": "code",
   "execution_count": 707,
   "metadata": {},
   "outputs": [
    {
     "data": {
      "text/plain": [
       "(43621, 5)"
      ]
     },
     "execution_count": 707,
     "metadata": {},
     "output_type": "execute_result"
    }
   ],
   "source": [
    "dffac.shape"
   ]
  },
  {
   "cell_type": "code",
   "execution_count": 708,
   "metadata": {},
   "outputs": [
    {
     "data": {
      "text/html": [
       "<div>\n",
       "<style scoped>\n",
       "    .dataframe tbody tr th:only-of-type {\n",
       "        vertical-align: middle;\n",
       "    }\n",
       "\n",
       "    .dataframe tbody tr th {\n",
       "        vertical-align: top;\n",
       "    }\n",
       "\n",
       "    .dataframe thead th {\n",
       "        text-align: right;\n",
       "    }\n",
       "</style>\n",
       "<table border=\"1\" class=\"dataframe\">\n",
       "  <thead>\n",
       "    <tr style=\"text-align: right;\">\n",
       "      <th></th>\n",
       "      <th>fac_id</th>\n",
       "      <th>long</th>\n",
       "      <th>lat</th>\n",
       "      <th>region</th>\n",
       "      <th>district</th>\n",
       "    </tr>\n",
       "  </thead>\n",
       "  <tbody>\n",
       "    <tr>\n",
       "      <th>37931</th>\n",
       "      <td>1.0</td>\n",
       "      <td>23.375396</td>\n",
       "      <td>-20.057104</td>\n",
       "      <td>North-West</td>\n",
       "      <td>Ngamiland East</td>\n",
       "    </tr>\n",
       "    <tr>\n",
       "      <th>15376</th>\n",
       "      <td>1.0</td>\n",
       "      <td>23.375396</td>\n",
       "      <td>-20.057104</td>\n",
       "      <td>North-West</td>\n",
       "      <td>Ngamiland East</td>\n",
       "    </tr>\n",
       "    <tr>\n",
       "      <th>16009</th>\n",
       "      <td>1.0</td>\n",
       "      <td>23.375396</td>\n",
       "      <td>-20.057104</td>\n",
       "      <td>North-West</td>\n",
       "      <td>Ngamiland East</td>\n",
       "    </tr>\n",
       "    <tr>\n",
       "      <th>14136</th>\n",
       "      <td>1.0</td>\n",
       "      <td>23.375396</td>\n",
       "      <td>-20.057104</td>\n",
       "      <td>North-West</td>\n",
       "      <td>Ngamiland East</td>\n",
       "    </tr>\n",
       "    <tr>\n",
       "      <th>8363</th>\n",
       "      <td>1.0</td>\n",
       "      <td>23.375396</td>\n",
       "      <td>-20.057104</td>\n",
       "      <td>North-West</td>\n",
       "      <td>Ngamiland East</td>\n",
       "    </tr>\n",
       "  </tbody>\n",
       "</table>\n",
       "</div>"
      ],
      "text/plain": [
       "       fac_id       long        lat      region        district\n",
       "37931     1.0  23.375396 -20.057104  North-West  Ngamiland East\n",
       "15376     1.0  23.375396 -20.057104  North-West  Ngamiland East\n",
       "16009     1.0  23.375396 -20.057104  North-West  Ngamiland East\n",
       "14136     1.0  23.375396 -20.057104  North-West  Ngamiland East\n",
       "8363      1.0  23.375396 -20.057104  North-West  Ngamiland East"
      ]
     },
     "execution_count": 708,
     "metadata": {},
     "output_type": "execute_result"
    }
   ],
   "source": [
    "dffac.head()"
   ]
  },
  {
   "cell_type": "code",
   "execution_count": 709,
   "metadata": {},
   "outputs": [
    {
     "data": {
      "text/html": [
       "<div>\n",
       "<style scoped>\n",
       "    .dataframe tbody tr th:only-of-type {\n",
       "        vertical-align: middle;\n",
       "    }\n",
       "\n",
       "    .dataframe tbody tr th {\n",
       "        vertical-align: top;\n",
       "    }\n",
       "\n",
       "    .dataframe thead th {\n",
       "        text-align: right;\n",
       "    }\n",
       "</style>\n",
       "<table border=\"1\" class=\"dataframe\">\n",
       "  <thead>\n",
       "    <tr style=\"text-align: right;\">\n",
       "      <th></th>\n",
       "      <th>fac_id</th>\n",
       "      <th>long</th>\n",
       "      <th>lat</th>\n",
       "      <th>region</th>\n",
       "      <th>district</th>\n",
       "    </tr>\n",
       "  </thead>\n",
       "  <tbody>\n",
       "    <tr>\n",
       "      <th>37931</th>\n",
       "      <td>1.0</td>\n",
       "      <td>23.375396</td>\n",
       "      <td>-20.057104</td>\n",
       "      <td>North-West</td>\n",
       "      <td>Ngamiland East</td>\n",
       "    </tr>\n",
       "    <tr>\n",
       "      <th>21602</th>\n",
       "      <td>2.0</td>\n",
       "      <td>23.410550</td>\n",
       "      <td>-21.465240</td>\n",
       "      <td>Ghanzi</td>\n",
       "      <td>Ghanzi</td>\n",
       "    </tr>\n",
       "    <tr>\n",
       "      <th>45608</th>\n",
       "      <td>3.0</td>\n",
       "      <td>23.214604</td>\n",
       "      <td>-21.792671</td>\n",
       "      <td>Ghanzi</td>\n",
       "      <td>Ghanzi</td>\n",
       "    </tr>\n",
       "    <tr>\n",
       "      <th>12983</th>\n",
       "      <td>4.0</td>\n",
       "      <td>23.688444</td>\n",
       "      <td>-21.332783</td>\n",
       "      <td>Ghanzi</td>\n",
       "      <td>Ghanzi</td>\n",
       "    </tr>\n",
       "    <tr>\n",
       "      <th>21287</th>\n",
       "      <td>5.0</td>\n",
       "      <td>21.817487</td>\n",
       "      <td>-21.634937</td>\n",
       "      <td>Ghanzi</td>\n",
       "      <td>Ghanzi</td>\n",
       "    </tr>\n",
       "  </tbody>\n",
       "</table>\n",
       "</div>"
      ],
      "text/plain": [
       "       fac_id       long        lat      region        district\n",
       "37931     1.0  23.375396 -20.057104  North-West  Ngamiland East\n",
       "21602     2.0  23.410550 -21.465240      Ghanzi          Ghanzi\n",
       "45608     3.0  23.214604 -21.792671      Ghanzi          Ghanzi\n",
       "12983     4.0  23.688444 -21.332783      Ghanzi          Ghanzi\n",
       "21287     5.0  21.817487 -21.634937      Ghanzi          Ghanzi"
      ]
     },
     "execution_count": 709,
     "metadata": {},
     "output_type": "execute_result"
    }
   ],
   "source": [
    "# dropping ALL duplicte values \n",
    "dffac.drop_duplicates(subset =\"fac_id\", \n",
    "                       keep = 'first', \n",
    "                       inplace = True) \n",
    "dffac.head()"
   ]
  },
  {
   "cell_type": "code",
   "execution_count": 710,
   "metadata": {},
   "outputs": [
    {
     "data": {
      "text/plain": [
       "0"
      ]
     },
     "execution_count": 710,
     "metadata": {},
     "output_type": "execute_result"
    }
   ],
   "source": [
    "dffac['fac_id'].isnull().sum()"
   ]
  },
  {
   "cell_type": "code",
   "execution_count": 711,
   "metadata": {},
   "outputs": [
    {
     "data": {
      "text/plain": [
       "False"
      ]
     },
     "execution_count": 711,
     "metadata": {},
     "output_type": "execute_result"
    }
   ],
   "source": [
    "len(dfp['fac_id'].unique()) == dffac['fac_id'].shape[0]"
   ]
  },
  {
   "cell_type": "code",
   "execution_count": 712,
   "metadata": {},
   "outputs": [
    {
     "data": {
      "text/plain": [
       "334"
      ]
     },
     "execution_count": 712,
     "metadata": {},
     "output_type": "execute_result"
    }
   ],
   "source": [
    "dffac['fac_id'].shape[0]"
   ]
  },
  {
   "cell_type": "markdown",
   "metadata": {},
   "source": [
    "Still it looks like we lost 12 facilities out of 336 in the process. I will ignore this for now. If I had more time I would investigate further and look at a map to get district and region. Remove offending facilities at a later stage..."
   ]
  },
  {
   "cell_type": "markdown",
   "metadata": {},
   "source": [
    "No more NaNs for `fac-id`. We can use this new dataframe to fill missing information so we don't loose records for our prediction."
   ]
  },
  {
   "cell_type": "code",
   "execution_count": 713,
   "metadata": {
    "tags": [
     "node"
    ]
   },
   "outputs": [],
   "source": [
    "def create_facility_df(df):\n",
    "    \"\"\"\n",
    "    remove patient info \n",
    "    sort fac_id in ascending order \n",
    "    drop columns with Nan (assumption: there is at least one fac_id\n",
    "    row with the whole information)\n",
    "    dropping ALL duplicte values but the first\n",
    "    reset index\n",
    "    sanity check: fac_id != NaN\n",
    "    \"\"\"\n",
    "    df = df.drop(['pat_id', 'dob', 'gender'], 1)\n",
    "    df.sort_values(by=['fac_id'], inplace=True)\n",
    "    df = df.dropna()\n",
    "    df.drop_duplicates(subset =\"fac_id\", \n",
    "                       keep = 'first', \n",
    "                       inplace = True)\n",
    "    df = df.reset_index(drop=True)\n",
    "    assert df.fac_id.isnull().sum() == 0\n",
    "    return df"
   ]
  },
  {
   "cell_type": "code",
   "execution_count": 714,
   "metadata": {
    "scrolled": false
   },
   "outputs": [
    {
     "data": {
      "text/html": [
       "<div>\n",
       "<style scoped>\n",
       "    .dataframe tbody tr th:only-of-type {\n",
       "        vertical-align: middle;\n",
       "    }\n",
       "\n",
       "    .dataframe tbody tr th {\n",
       "        vertical-align: top;\n",
       "    }\n",
       "\n",
       "    .dataframe thead th {\n",
       "        text-align: right;\n",
       "    }\n",
       "</style>\n",
       "<table border=\"1\" class=\"dataframe\">\n",
       "  <thead>\n",
       "    <tr style=\"text-align: right;\">\n",
       "      <th></th>\n",
       "      <th>fac_id</th>\n",
       "      <th>long</th>\n",
       "      <th>lat</th>\n",
       "      <th>region</th>\n",
       "      <th>district</th>\n",
       "    </tr>\n",
       "  </thead>\n",
       "  <tbody>\n",
       "    <tr>\n",
       "      <th>0</th>\n",
       "      <td>1.0</td>\n",
       "      <td>23.375396</td>\n",
       "      <td>-20.057104</td>\n",
       "      <td>North-West</td>\n",
       "      <td>Ngamiland East</td>\n",
       "    </tr>\n",
       "    <tr>\n",
       "      <th>1</th>\n",
       "      <td>2.0</td>\n",
       "      <td>23.410550</td>\n",
       "      <td>-21.465240</td>\n",
       "      <td>Ghanzi</td>\n",
       "      <td>Ghanzi</td>\n",
       "    </tr>\n",
       "    <tr>\n",
       "      <th>2</th>\n",
       "      <td>3.0</td>\n",
       "      <td>23.214604</td>\n",
       "      <td>-21.792671</td>\n",
       "      <td>Ghanzi</td>\n",
       "      <td>Ghanzi</td>\n",
       "    </tr>\n",
       "    <tr>\n",
       "      <th>3</th>\n",
       "      <td>4.0</td>\n",
       "      <td>23.688444</td>\n",
       "      <td>-21.332783</td>\n",
       "      <td>Ghanzi</td>\n",
       "      <td>Ghanzi</td>\n",
       "    </tr>\n",
       "    <tr>\n",
       "      <th>4</th>\n",
       "      <td>5.0</td>\n",
       "      <td>21.817487</td>\n",
       "      <td>-21.634937</td>\n",
       "      <td>Ghanzi</td>\n",
       "      <td>Ghanzi</td>\n",
       "    </tr>\n",
       "  </tbody>\n",
       "</table>\n",
       "</div>"
      ],
      "text/plain": [
       "   fac_id       long        lat      region        district\n",
       "0     1.0  23.375396 -20.057104  North-West  Ngamiland East\n",
       "1     2.0  23.410550 -21.465240      Ghanzi          Ghanzi\n",
       "2     3.0  23.214604 -21.792671      Ghanzi          Ghanzi\n",
       "3     4.0  23.688444 -21.332783      Ghanzi          Ghanzi\n",
       "4     5.0  21.817487 -21.634937      Ghanzi          Ghanzi"
      ]
     },
     "execution_count": 714,
     "metadata": {},
     "output_type": "execute_result"
    }
   ],
   "source": [
    "dffac = create_facility_df(dfp)\n",
    "dffac.head()"
   ]
  },
  {
   "cell_type": "code",
   "execution_count": 715,
   "metadata": {},
   "outputs": [
    {
     "data": {
      "text/plain": [
       "0"
      ]
     },
     "execution_count": 715,
     "metadata": {},
     "output_type": "execute_result"
    }
   ],
   "source": [
    "dffac.isnull().sum().sum()"
   ]
  },
  {
   "cell_type": "code",
   "execution_count": 716,
   "metadata": {},
   "outputs": [
    {
     "data": {
      "text/plain": [
       "True"
      ]
     },
     "execution_count": 716,
     "metadata": {},
     "output_type": "execute_result"
    }
   ],
   "source": [
    "len(dffac['long'].unique()) == dffac['fac_id'].shape[0]"
   ]
  },
  {
   "cell_type": "code",
   "execution_count": 717,
   "metadata": {},
   "outputs": [
    {
     "data": {
      "text/plain": [
       "True"
      ]
     },
     "execution_count": 717,
     "metadata": {},
     "output_type": "execute_result"
    }
   ],
   "source": [
    "len(dffac['lat'].unique()) == dffac['fac_id'].shape[0]"
   ]
  },
  {
   "cell_type": "code",
   "execution_count": 718,
   "metadata": {},
   "outputs": [
    {
     "data": {
      "text/plain": [
       "<matplotlib.axes._subplots.AxesSubplot at 0x7f1260919eb0>"
      ]
     },
     "execution_count": 718,
     "metadata": {},
     "output_type": "execute_result"
    },
    {
     "data": {
      "image/png": "[encoded data removed]",
      "text/plain": [
       "<Figure size 432x288 with 1 Axes>"
      ]
     },
     "metadata": {
      "needs_background": "light"
     },
     "output_type": "display_data"
    }
   ],
   "source": [
    "dffac['region'].value_counts().plot(kind='bar')"
   ]
  },
  {
   "cell_type": "markdown",
   "metadata": {},
   "source": [
    "Lets go back to our patients now. I will first remove records with NaN gender."
   ]
  },
  {
   "cell_type": "code",
   "execution_count": 719,
   "metadata": {
    "tags": [
     "node"
    ]
   },
   "outputs": [],
   "source": [
    "def drop_null_gender(df):\n",
    "    \"\"\"\n",
    "    Drop all records without gender field and reset index.\n",
    "    \"\"\"\n",
    "    df.dropna(subset=['gender'], inplace=True)\n",
    "    df = df.reset_index(drop=True)\n",
    "    return df"
   ]
  },
  {
   "cell_type": "code",
   "execution_count": 720,
   "metadata": {},
   "outputs": [
    {
     "data": {
      "text/plain": [
       "48998"
      ]
     },
     "execution_count": 720,
     "metadata": {},
     "output_type": "execute_result"
    }
   ],
   "source": [
    "dfp = drop_null_gender(dfp)\n",
    "dfp.shape[0]"
   ]
  },
  {
   "cell_type": "code",
   "execution_count": 721,
   "metadata": {},
   "outputs": [
    {
     "data": {
      "text/plain": [
       "10586"
      ]
     },
     "execution_count": 721,
     "metadata": {},
     "output_type": "execute_result"
    }
   ],
   "source": [
    "dfp.isnull().sum().sum()"
   ]
  },
  {
   "cell_type": "code",
   "execution_count": 722,
   "metadata": {
    "scrolled": false
   },
   "outputs": [
    {
     "data": {
      "text/plain": [
       "2438"
      ]
     },
     "execution_count": 722,
     "metadata": {},
     "output_type": "execute_result"
    }
   ],
   "source": [
    "dfp['fac_id'].isnull().sum()"
   ]
  },
  {
   "cell_type": "markdown",
   "metadata": {},
   "source": [
    "Now we will find indexes of those row and match them with our fac_id dataframe."
   ]
  },
  {
   "cell_type": "code",
   "execution_count": 723,
   "metadata": {},
   "outputs": [],
   "source": [
    "import pandas as pd\n",
    "import numpy as np"
   ]
  },
  {
   "cell_type": "code",
   "execution_count": 724,
   "metadata": {},
   "outputs": [
    {
     "data": {
      "text/plain": [
       "2438"
      ]
     },
     "execution_count": 724,
     "metadata": {},
     "output_type": "execute_result"
    }
   ],
   "source": [
    "index = dfp['fac_id'].index[dfp['fac_id'].apply(np.isnan)]\n",
    "len(index)"
   ]
  },
  {
   "cell_type": "markdown",
   "metadata": {},
   "source": [
    "Since lat and long all unique for all facilities we can use one to match out fac_id."
   ]
  },
  {
   "cell_type": "code",
   "execution_count": 725,
   "metadata": {
    "tags": [
     "node"
    ]
   },
   "outputs": [],
   "source": [
    "def fill_missing_facid(df0, df1):\n",
    "    \"\"\"\n",
    "    Since lat and long all unique for all facilities we \n",
    "    can use one to match out fac_id. Find index of NaN fac_id and \n",
    "    search facility ID dataframe for match on longitude.\n",
    "    If there is no long, as we will assume no geo location\n",
    "    was captured, remove records.\n",
    "    df0: patient dataframe\n",
    "    df1: facilities dataframe\n",
    "    \"\"\"\n",
    "    ind = df0['fac_id'].index[df0['fac_id'].apply(np.isnan)]\n",
    "    empty_idx = []\n",
    "    for i in ind:\n",
    "        long0 = df0.loc[i].long\n",
    "        try:\n",
    "            facid = df1[df1['long'] == long0]['fac_id'].values[0]\n",
    "            df0.loc[i, 'fac_id'] = facid\n",
    "        except IndexError:\n",
    "            empty_idx.append(i)\n",
    "    if empty_idx:\n",
    "        df0 = df0.drop(df0.index[empty_idx])\n",
    "        df0 = df0.reset_index(drop=True)\n",
    "    return df0"
   ]
  },
  {
   "cell_type": "code",
   "execution_count": 726,
   "metadata": {},
   "outputs": [
    {
     "data": {
      "text/plain": [
       "True"
      ]
     },
     "execution_count": 726,
     "metadata": {},
     "output_type": "execute_result"
    }
   ],
   "source": [
    "dfp = fill_missing_facid(dfp, dffac)\n",
    "dfp['fac_id'].isnull().sum() == 0"
   ]
  },
  {
   "cell_type": "code",
   "execution_count": 727,
   "metadata": {},
   "outputs": [
    {
     "data": {
      "text/plain": [
       "48801"
      ]
     },
     "execution_count": 727,
     "metadata": {},
     "output_type": "execute_result"
    }
   ],
   "source": [
    "dfp.shape[0]"
   ]
  },
  {
   "cell_type": "code",
   "execution_count": 728,
   "metadata": {},
   "outputs": [
    {
     "data": {
      "text/plain": [
       "7740"
      ]
     },
     "execution_count": 728,
     "metadata": {},
     "output_type": "execute_result"
    }
   ],
   "source": [
    "dfp.isnull().sum().sum()"
   ]
  },
  {
   "cell_type": "markdown",
   "metadata": {},
   "source": [
    "Now we can remove offending facilities from earlier."
   ]
  },
  {
   "cell_type": "code",
   "execution_count": 729,
   "metadata": {
    "tags": [
     "node"
    ]
   },
   "outputs": [],
   "source": [
    "def remove_facilities(df0, df1):\n",
    "    \"\"\"\n",
    "    Remove facilities from patient dataframe that are not present in \n",
    "    facilities dataframe\n",
    "    df0: patient dataframe\n",
    "    df1: facilities dataframe\n",
    "    \"\"\"\n",
    "    bad_facid = list(set(list(df0['fac_id'].unique())) - set(list(df1['fac_id'])))\n",
    "    idx = [df0[df0['fac_id'] == i].index.tolist() for i in bad_facid]\n",
    "    bad_idx = [item for sublist in idx for item in sublist]\n",
    "    \n",
    "    df0.drop(df0.index[bad_idx], inplace=True)\n",
    "    df0 = df0.reset_index(drop=True)\n",
    "    return df0"
   ]
  },
  {
   "cell_type": "code",
   "execution_count": 730,
   "metadata": {},
   "outputs": [
    {
     "data": {
      "text/plain": [
       "47282"
      ]
     },
     "execution_count": 730,
     "metadata": {},
     "output_type": "execute_result"
    }
   ],
   "source": [
    "dfp = remove_facilities(dfp, dffac)\n",
    "dfp.shape[0]"
   ]
  },
  {
   "cell_type": "code",
   "execution_count": 731,
   "metadata": {},
   "outputs": [
    {
     "data": {
      "text/plain": [
       "4538"
      ]
     },
     "execution_count": 731,
     "metadata": {},
     "output_type": "execute_result"
    }
   ],
   "source": [
    "dfp.isnull().sum().sum()"
   ]
  },
  {
   "cell_type": "markdown",
   "metadata": {},
   "source": [
    "Still NaNs... Now we can use facility ID to fill missing data!"
   ]
  },
  {
   "cell_type": "code",
   "execution_count": 732,
   "metadata": {
    "tags": [
     "node"
    ]
   },
   "outputs": [],
   "source": [
    "def fill_missing_values(df0, df1):\n",
    "    \"\"\"\n",
    "    Find index of NaN values. For each index read fac_id. \n",
    "    Using that fac_id read long, lat, region and district \n",
    "    from facilities dataframe and write them to patient dataframe.\n",
    "    df0: patient dataframe\n",
    "    df1: facilities dataframe\n",
    "    \"\"\"\n",
    "    ind = df0[df0.isnull().any(axis=1)].index\n",
    "    for i in ind:\n",
    "        facid = df0.loc[i].fac_id\n",
    "        df0.loc[i, 'long'] = df1[df1.fac_id == facid].long.values[0]\n",
    "        df0.loc[i, 'lat']  = df1[df1.fac_id == facid].lat.values[0]\n",
    "        df0.loc[i, 'region']  = df1[df1.fac_id == facid].region.values[0]\n",
    "        df0.loc[i, 'district'] = df1[df1.fac_id == facid].district.values[0]\n",
    "    return df0"
   ]
  },
  {
   "cell_type": "code",
   "execution_count": 733,
   "metadata": {
    "scrolled": true
   },
   "outputs": [
    {
     "data": {
      "text/plain": [
       "True"
      ]
     },
     "execution_count": 733,
     "metadata": {},
     "output_type": "execute_result"
    }
   ],
   "source": [
    "dfp = fill_missing_values(dfp, dffac)\n",
    "dfp.isnull().sum().sum() == 0"
   ]
  },
  {
   "cell_type": "code",
   "execution_count": 734,
   "metadata": {},
   "outputs": [
    {
     "data": {
      "text/plain": [
       "2718"
      ]
     },
     "execution_count": 734,
     "metadata": {},
     "output_type": "execute_result"
    }
   ],
   "source": [
    "50000 - dfp.shape[0]"
   ]
  },
  {
   "cell_type": "markdown",
   "metadata": {},
   "source": [
    "I removed about 5% of the data. This number could be improved with further investigation into geo location of the facilities."
   ]
  },
  {
   "cell_type": "markdown",
   "metadata": {},
   "source": [
    "Now wrap it all in one function to create `preprocessed_patients` dataset."
   ]
  },
  {
   "cell_type": "code",
   "execution_count": 735,
   "metadata": {
    "tags": [
     "node"
    ]
   },
   "outputs": [],
   "source": [
    "def preprocess_patients(df0, df1):\n",
    "    \"\"\"\n",
    "    Bring all functions to create pre-processed df\n",
    "    \"\"\"\n",
    "    df = remove_unnamed_column(df0)\n",
    "    df = drop_null_gender(df)\n",
    "    df = fill_missing_facid(df, df1)\n",
    "    df = remove_facilities(df, df1)\n",
    "    df = fill_missing_values(df, df1)\n",
    "    return df"
   ]
  },
  {
   "cell_type": "code",
   "execution_count": 736,
   "metadata": {},
   "outputs": [
    {
     "name": "stdout",
     "output_type": "stream",
     "text": [
      "2020-06-06 20:35:15,006 - kedro.io.data_catalog - INFO - Loading data from `patients` (CSVDataSet)...\n"
     ]
    }
   ],
   "source": [
    "dfp = catalog.load(\"patients\")\n",
    "dfp = preprocess_patients(dfp, dffac)"
   ]
  },
  {
   "cell_type": "markdown",
   "metadata": {},
   "source": [
    "## Immunization"
   ]
  },
  {
   "cell_type": "code",
   "execution_count": 739,
   "metadata": {},
   "outputs": [
    {
     "name": "stdout",
     "output_type": "stream",
     "text": [
      "2020-06-07 10:17:27,437 - kedro.io.data_catalog - INFO - Loading data from `immunization` (CSVDataSet)...\n"
     ]
    },
    {
     "data": {
      "text/html": [
       "<div>\n",
       "<style scoped>\n",
       "    .dataframe tbody tr th:only-of-type {\n",
       "        vertical-align: middle;\n",
       "    }\n",
       "\n",
       "    .dataframe tbody tr th {\n",
       "        vertical-align: top;\n",
       "    }\n",
       "\n",
       "    .dataframe thead th {\n",
       "        text-align: right;\n",
       "    }\n",
       "</style>\n",
       "<table border=\"1\" class=\"dataframe\">\n",
       "  <thead>\n",
       "    <tr style=\"text-align: right;\">\n",
       "      <th></th>\n",
       "      <th>Unnamed: 0</th>\n",
       "      <th>pat_id</th>\n",
       "      <th>vaccine</th>\n",
       "      <th>im_date</th>\n",
       "      <th>successful</th>\n",
       "      <th>reason_unsuccesful</th>\n",
       "    </tr>\n",
       "  </thead>\n",
       "  <tbody>\n",
       "    <tr>\n",
       "      <th>0</th>\n",
       "      <td>0</td>\n",
       "      <td>1</td>\n",
       "      <td>OPV</td>\n",
       "      <td>2019-01-31</td>\n",
       "      <td>True</td>\n",
       "      <td>NaN</td>\n",
       "    </tr>\n",
       "    <tr>\n",
       "      <th>1</th>\n",
       "      <td>1</td>\n",
       "      <td>2</td>\n",
       "      <td>OPV</td>\n",
       "      <td>2019-11-12</td>\n",
       "      <td>True</td>\n",
       "      <td>NaN</td>\n",
       "    </tr>\n",
       "    <tr>\n",
       "      <th>2</th>\n",
       "      <td>2</td>\n",
       "      <td>3</td>\n",
       "      <td>OPV</td>\n",
       "      <td>2019-11-03</td>\n",
       "      <td>True</td>\n",
       "      <td>NaN</td>\n",
       "    </tr>\n",
       "    <tr>\n",
       "      <th>3</th>\n",
       "      <td>3</td>\n",
       "      <td>4</td>\n",
       "      <td>OPV</td>\n",
       "      <td>2019-06-01</td>\n",
       "      <td>True</td>\n",
       "      <td>NaN</td>\n",
       "    </tr>\n",
       "    <tr>\n",
       "      <th>4</th>\n",
       "      <td>4</td>\n",
       "      <td>5</td>\n",
       "      <td>OPV</td>\n",
       "      <td>2018-12-24</td>\n",
       "      <td>True</td>\n",
       "      <td>NaN</td>\n",
       "    </tr>\n",
       "  </tbody>\n",
       "</table>\n",
       "</div>"
      ],
      "text/plain": [
       "   Unnamed: 0  pat_id vaccine     im_date  successful reason_unsuccesful\n",
       "0           0       1     OPV  2019-01-31        True                NaN\n",
       "1           1       2     OPV  2019-11-12        True                NaN\n",
       "2           2       3     OPV  2019-11-03        True                NaN\n",
       "3           3       4     OPV  2019-06-01        True                NaN\n",
       "4           4       5     OPV  2018-12-24        True                NaN"
      ]
     },
     "execution_count": 739,
     "metadata": {},
     "output_type": "execute_result"
    }
   ],
   "source": [
    "dfi = catalog.load(\"immunization\")\n",
    "dfi.head()"
   ]
  },
  {
   "cell_type": "code",
   "execution_count": 740,
   "metadata": {},
   "outputs": [
    {
     "data": {
      "text/plain": [
       "(276764, 5)"
      ]
     },
     "execution_count": 740,
     "metadata": {},
     "output_type": "execute_result"
    }
   ],
   "source": [
    "dfi = remove_unnamed_column(dfi)\n",
    "dfi.shape"
   ]
  },
  {
   "cell_type": "code",
   "execution_count": null,
   "metadata": {},
   "outputs": [],
   "source": []
  }
 ],
 "metadata": {
  "celltoolbar": "Tags",
  "kernelspec": {
   "display_name": "ImmunizationDropouts",
   "language": "python",
   "name": "python3"
  },
  "language_info": {
   "codemirror_mode": {
    "name": "ipython",
    "version": 3
   },
   "file_extension": ".py",
   "mimetype": "text/x-python",
   "name": "python",
   "nbconvert_exporter": "python",
   "pygments_lexer": "ipython3",
   "version": "3.8.2"
  }
 },
 "nbformat": 4,
 "nbformat_minor": 4
}
